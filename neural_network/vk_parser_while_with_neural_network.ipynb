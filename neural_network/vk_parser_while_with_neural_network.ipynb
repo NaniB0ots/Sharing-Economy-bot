{
  "nbformat": 4,
  "nbformat_minor": 0,
  "metadata": {
    "colab": {
      "name": "vk_parser_while.ipynb",
      "provenance": [],
      "collapsed_sections": []
    },
    "kernelspec": {
      "name": "python3",
      "display_name": "Python 3"
    }
  },
  "cells": [
    {
      "cell_type": "markdown",
      "metadata": {
        "id": "N2QYSZWXC8In",
        "colab_type": "text"
      },
      "source": [
        "#Гугл диск\n"
      ]
    },
    {
      "cell_type": "code",
      "metadata": {
        "id": "rYhiAX7MDBSF",
        "colab_type": "code",
        "colab": {
          "base_uri": "https://localhost:8080/",
          "height": 124
        },
        "outputId": "11357d57-7a3b-4b58-cba7-3ceebcdb377e"
      },
      "source": [
        "from google.colab import drive\n",
        "drive.mount('/content/drive')"
      ],
      "execution_count": 1,
      "outputs": [
        {
          "output_type": "stream",
          "text": [
            "Go to this URL in a browser: https://accounts.google.com/o/oauth2/auth?client_id=947318989803-6bn6qk8qdgf4n4g3pfee6491hc0brc4i.apps.googleusercontent.com&redirect_uri=urn%3aietf%3awg%3aoauth%3a2.0%3aoob&response_type=code&scope=email%20https%3a%2f%2fwww.googleapis.com%2fauth%2fdocs.test%20https%3a%2f%2fwww.googleapis.com%2fauth%2fdrive%20https%3a%2f%2fwww.googleapis.com%2fauth%2fdrive.photos.readonly%20https%3a%2f%2fwww.googleapis.com%2fauth%2fpeopleapi.readonly\n",
            "\n",
            "Enter your authorization code:\n",
            "··········\n",
            "Mounted at /content/drive\n"
          ],
          "name": "stdout"
        }
      ]
    },
    {
      "cell_type": "markdown",
      "metadata": {
        "id": "6UWmNZhvB_uv",
        "colab_type": "text"
      },
      "source": [
        "#Нейросеть"
      ]
    },
    {
      "cell_type": "code",
      "metadata": {
        "id": "bKkJKhezCdCz",
        "colab_type": "code",
        "colab": {
          "base_uri": "https://localhost:8080/",
          "height": 35
        },
        "outputId": "dacbbeca-3c16-4317-bfd5-42bd9dbd4e5f"
      },
      "source": [
        "import os, shutil\n",
        "import pandas as pd\n",
        "import numpy as np\n",
        "from tensorflow.keras.models import Sequential\n",
        "from tensorflow.keras.layers import Dense, Conv2D, MaxPooling2D, Dropout, Flatten \n",
        "from tensorflow.keras.applications import ResNet152V2\n",
        "from keras.preprocessing.image import ImageDataGenerator, load_img"
      ],
      "execution_count": 2,
      "outputs": [
        {
          "output_type": "stream",
          "text": [
            "Using TensorFlow backend.\n"
          ],
          "name": "stderr"
        }
      ]
    },
    {
      "cell_type": "markdown",
      "metadata": {
        "id": "Eu1wlKOUCpOy",
        "colab_type": "text"
      },
      "source": [
        "##Константы"
      ]
    },
    {
      "cell_type": "code",
      "metadata": {
        "id": "Fw-Jr7tJCm5P",
        "colab_type": "code",
        "colab": {}
      },
      "source": [
        "FAST_RUN = False\n",
        "IMAGE_WIDTH=128\n",
        "IMAGE_HEIGHT=128\n",
        "IMAGE_SIZE=(IMAGE_WIDTH, IMAGE_HEIGHT)\n",
        "IMAGE_CHANNELS=3\n",
        "input_shape = (IMAGE_WIDTH, IMAGE_HEIGHT, IMAGE_CHANNELS)\n",
        "# определим batch_size\n",
        "batch_size=15"
      ],
      "execution_count": 3,
      "outputs": []
    },
    {
      "cell_type": "markdown",
      "metadata": {
        "id": "KQXXNlEJBhRA",
        "colab_type": "text"
      },
      "source": [
        "##Загружаем предварительно обученную нейронную сеть ResNet152V2\n",
        "Создадим экземпляр модели ResNet152V2"
      ]
    },
    {
      "cell_type": "code",
      "metadata": {
        "id": "8kwsi28NBz2y",
        "colab_type": "code",
        "colab": {
          "base_uri": "https://localhost:8080/",
          "height": 72
        },
        "outputId": "49ea29f5-1f36-412a-b547-cd552fc816ae"
      },
      "source": [
        "ResNet152V2_net = ResNet152V2(weights='imagenet', \n",
        "                  include_top=False, \n",
        "                  input_shape=input_shape)"
      ],
      "execution_count": 4,
      "outputs": [
        {
          "output_type": "stream",
          "text": [
            "Downloading data from https://storage.googleapis.com/tensorflow/keras-applications/resnet/resnet152v2_weights_tf_dim_ordering_tf_kernels_notop.h5\n",
            "234553344/234545216 [==============================] - 2s 0us/step\n"
          ],
          "name": "stdout"
        }
      ]
    },
    {
      "cell_type": "code",
      "metadata": {
        "id": "kA44Px5FB2Zq",
        "colab_type": "code",
        "colab": {}
      },
      "source": [
        "ResNet152V2_net.trainable = False"
      ],
      "execution_count": 5,
      "outputs": []
    },
    {
      "cell_type": "markdown",
      "metadata": {
        "id": "9GqeFMUaB6Wf",
        "colab_type": "text"
      },
      "source": [
        "## Классификатор"
      ]
    },
    {
      "cell_type": "code",
      "metadata": {
        "id": "D42t0NxzCEUL",
        "colab_type": "code",
        "colab": {}
      },
      "source": [
        "model = Sequential()\n",
        "# добавляем в модель сеть ResNet152V2 в качестве слоя\n",
        "model.add(ResNet152V2_net)\n",
        "model.add(Flatten())\n",
        "model.add(Dense(256, activation='relu'))\n",
        "model.add(Dense(512, activation='relu'))\n",
        "model.add(Dropout(0.5))\n",
        "model.add(Dense(9, activation='softmax'))"
      ],
      "execution_count": 6,
      "outputs": []
    },
    {
      "cell_type": "code",
      "metadata": {
        "id": "A4_mC-SRC4GL",
        "colab_type": "code",
        "colab": {
          "base_uri": "https://localhost:8080/",
          "height": 364
        },
        "outputId": "b67c7f63-3cf8-48e0-9350-5b3c32a288f2"
      },
      "source": [
        "model.summary()"
      ],
      "execution_count": 7,
      "outputs": [
        {
          "output_type": "stream",
          "text": [
            "Model: \"sequential\"\n",
            "_________________________________________________________________\n",
            "Layer (type)                 Output Shape              Param #   \n",
            "=================================================================\n",
            "resnet152v2 (Model)          (None, 4, 4, 2048)        58331648  \n",
            "_________________________________________________________________\n",
            "flatten (Flatten)            (None, 32768)             0         \n",
            "_________________________________________________________________\n",
            "dense (Dense)                (None, 256)               8388864   \n",
            "_________________________________________________________________\n",
            "dense_1 (Dense)              (None, 512)               131584    \n",
            "_________________________________________________________________\n",
            "dropout (Dropout)            (None, 512)               0         \n",
            "_________________________________________________________________\n",
            "dense_2 (Dense)              (None, 9)                 4617      \n",
            "=================================================================\n",
            "Total params: 66,856,713\n",
            "Trainable params: 8,525,065\n",
            "Non-trainable params: 58,331,648\n",
            "_________________________________________________________________\n"
          ],
          "name": "stdout"
        }
      ]
    },
    {
      "cell_type": "code",
      "metadata": {
        "id": "K9727-OtCIQg",
        "colab_type": "code",
        "colab": {}
      },
      "source": [
        "model.compile(loss='categorical_crossentropy', optimizer=\"rmsprop\", metrics=['accuracy'])"
      ],
      "execution_count": 8,
      "outputs": []
    },
    {
      "cell_type": "code",
      "metadata": {
        "id": "5NpXI6G7CLwQ",
        "colab_type": "code",
        "colab": {}
      },
      "source": [
        "#model.load_weights(\"/content/drive/My Drive/Sharing-Economy-neural-network/model-cnn-1.h5\")\n",
        "#model.load_weights(\"/content/drive/My Drive/Sharing-Economy-neural-network/model-cnn-S1.h5\")\n",
        "model.load_weights(\"/content/drive/My Drive/Sharing-Economy-neural-network/model-cnn-S2.h5\")\n",
        "\n"
      ],
      "execution_count": 9,
      "outputs": []
    },
    {
      "cell_type": "markdown",
      "metadata": {
        "id": "3wv9ZvfsEhD8",
        "colab_type": "text"
      },
      "source": [
        "#Классификация\n"
      ]
    },
    {
      "cell_type": "markdown",
      "metadata": {
        "id": "vk0We9PAVbeV",
        "colab_type": "text"
      },
      "source": [
        "##Распределение по категориям"
      ]
    },
    {
      "cell_type": "code",
      "metadata": {
        "id": "sbqIQdalv3OW",
        "colab_type": "code",
        "colab": {}
      },
      "source": [
        "!mkdir imgs"
      ],
      "execution_count": 10,
      "outputs": []
    },
    {
      "cell_type": "code",
      "metadata": {
        "id": "76KXA9vGVg-L",
        "colab_type": "code",
        "colab": {}
      },
      "source": [
        "def distribution_by_category():\n",
        "    test_filenames = os.listdir(\"/content/imgs/\")\n",
        "    test_df_img = pd.DataFrame({\n",
        "        'filename': test_filenames\n",
        "    })\n",
        "    nb_samples = test_df_img.shape[0]\n",
        "    test_df_img.head() \n",
        "\n",
        "\n",
        "\n",
        "    test_gen = ImageDataGenerator(rescale=1./255)\n",
        "    test_generator = test_gen.flow_from_dataframe(\n",
        "        test_df_img, \n",
        "        \"/content/imgs\", \n",
        "        x_col='filename',\n",
        "        y_col=None,\n",
        "        class_mode=None,\n",
        "        target_size=IMAGE_SIZE,\n",
        "        batch_size=batch_size,\n",
        "        shuffle=False\n",
        "    )\n",
        "\n",
        "\n",
        "    predict = model.predict(test_generator, steps=np.ceil(nb_samples/batch_size))\n",
        "\n",
        "    cat = {0:'Алкоголь', 1:'Готовые блюда', 2:'Консервы', 3:'Крупы', 4:'Молочка', 5:'Мясо рыба', 6:'Орехи фрукты овощи', 7:'Соки воды', 8:'Хлеб'}\n",
        "    predict_index = np.argmax(predict, axis=-1)\n",
        "    for index in predict_index:\n",
        "      print(cat[index])\n",
        "    return predict_index\n"
      ],
      "execution_count": 11,
      "outputs": []
    },
    {
      "cell_type": "markdown",
      "metadata": {
        "id": "EbffDyJr2I_c",
        "colab_type": "text"
      },
      "source": [
        "#vk_parser"
      ]
    },
    {
      "cell_type": "code",
      "metadata": {
        "id": "ltZLvCBE3-Cl",
        "colab_type": "code",
        "colab": {}
      },
      "source": [
        "import requests\n",
        "import json\n",
        "import time"
      ],
      "execution_count": 12,
      "outputs": []
    },
    {
      "cell_type": "code",
      "metadata": {
        "id": "XQ51-vkG4Fk4",
        "colab_type": "code",
        "colab": {}
      },
      "source": [
        "version = '5.110'\n",
        "token = '06f914db06f914db06f914db67068b6414006f906f914db58235e27d29376af1fa9f903'"
      ],
      "execution_count": 13,
      "outputs": []
    },
    {
      "cell_type": "markdown",
      "metadata": {
        "id": "IIZzLdhdnhli",
        "colab_type": "text"
      },
      "source": [
        "###img_processing"
      ]
    },
    {
      "cell_type": "code",
      "metadata": {
        "id": "z2YW14Zpnnss",
        "colab_type": "code",
        "colab": {}
      },
      "source": [
        "def vk_respons(domain,token,version,count = 1,offset = 1):\n",
        "    response = requests.get('https://api.vk.com/method/wall.get',\n",
        "                            params={\n",
        "                                'access_token': token,\n",
        "                                'v': version,\n",
        "                                'domain': domain,\n",
        "                                'count': count,\n",
        "                                'offset': offset\n",
        "                            }\n",
        "                            )\n",
        "    vk_answer = response.json()\n",
        "    return vk_answer\n",
        "\n",
        "def downlaod_img(img,path):\n",
        "    p = requests.get(img)\n",
        "    out = open(path, \"wb\")\n",
        "    out.write(p.content)\n",
        "    out.close()\n",
        "# name = 'img1.jpg'\n",
        "# path = '../imgs/'+name\n",
        "# downlaod_img('https://sun4-15.userapi.com/rT2PGPaYQETVJClKWc65dX2_Zj87hx-xsKcE9w/26XbpiTEEqU.jpg',path)\n",
        "\n",
        "def tests_preparing(groups):\n",
        "    for i in range(len(groups)):\n",
        "        domain = groups[i]\n",
        "        count = 100\n",
        "        vk_answer = vk_respons(domain,token,version,count)\n",
        "        for j in range(vk_answer['response']['items'].__len__()):\n",
        "            post_id = vk_answer['response']['items'][j]['id']\n",
        "            owner_id = vk_answer['response']['items'][j]['owner_id']\n",
        "            if 'attachments' in vk_answer['response']['items'][j].keys():\n",
        "                for n in range(vk_answer['response']['items'][i]['attachments'].__len__()):\n",
        "                    try:\n",
        "                        if 'photo' in vk_answer['response']['items'][j]['attachments'][n].keys():\n",
        "                            path = '../test_imgs/'+str(owner_id)+'_'+str(post_id)+'('+str(n)+').jpg'\n",
        "                            url = vk_answer['response']['items'][j]['attachments'][n]['photo']['sizes'][2]['url']\n",
        "                            downlaod_img(url, path)\n",
        "                    except:\n",
        "                        pass\n",
        "#groups = ['club_helpfoodspb','sharingfood','sharingfood_irk','foodsharing_minsk','food_sharing_spb']\n",
        "#tests_preparing(groups)\n",
        "\n"
      ],
      "execution_count": 14,
      "outputs": []
    },
    {
      "cell_type": "markdown",
      "metadata": {
        "id": "0Mk6MgnBnt8y",
        "colab_type": "text"
      },
      "source": [
        "###parser"
      ]
    },
    {
      "cell_type": "code",
      "metadata": {
        "id": "WukbTd9u13wl",
        "colab_type": "code",
        "colab": {
          "base_uri": "https://localhost:8080/",
          "height": 747
        },
        "outputId": "e228817d-232d-46f2-a5be-2aec90e19169"
      },
      "source": [
        "# https://nanib0ots.pythonanywhere.com\n",
        "\n",
        "\n",
        "def write_json(post_id, owner_id):\n",
        "    post_id = str(post_id)\n",
        "    owner_id = str(owner_id)\n",
        "    flag = False\n",
        "    try:\n",
        "        json_d = json.load(open('groups.json'))\n",
        "    except:\n",
        "        json_d = {}\n",
        "    if owner_id in json_d.keys():\n",
        "        if json_d[owner_id] != post_id:\n",
        "            flag = True\n",
        "            json_d[owner_id] = post_id\n",
        "            with open('groups.json', 'w') as file:\n",
        "                json.dump(json_d, file, indent=2, ensure_ascii=False)\n",
        "    else:\n",
        "        json_d[owner_id] = post_id\n",
        "        flag = True\n",
        "        with open('groups.json', 'w') as file:\n",
        "            json.dump(json_d, file, indent=2, ensure_ascii=False)\n",
        "    return flag\n",
        "\n",
        "\n",
        "def vk_respons(domain, token, version, count=1, offset=1):\n",
        "    response = requests.get('https://api.vk.com/method/wall.get',\n",
        "                            params={\n",
        "                                'access_token': token,\n",
        "                                'v': version,\n",
        "                                'domain': domain,\n",
        "                                'count': count,\n",
        "                                'offset': offset\n",
        "                            }\n",
        "                            )\n",
        "    vk_answer = response.json()\n",
        "    return vk_answer\n",
        "\n",
        "\n",
        "def vk_pars_func(data):\n",
        "    for i in range(len(data)):\n",
        "        domain = data[i]['group_id']\n",
        "        cities = list(set(data[i]['city']))\n",
        "\n",
        "        vk_answer = vk_respons(domain, token, version)\n",
        "        print(vk_answer)\n",
        "        post_id = vk_answer['response']['items'][0]['id']\n",
        "        owner_id = vk_answer['response']['items'][0]['owner_id']\n",
        "        writer = write_json(post_id, owner_id)\n",
        "        if writer:\n",
        "            print('link:', 'https://vk.com/' + domain + '?w=wall' + str(owner_id) + '_' + str(post_id))\n",
        "            item = vk_answer['response']['items'][0]\n",
        "\n",
        "            text = item['text']\n",
        "            print(text)\n",
        "\n",
        "\n",
        "            # Определение города\n",
        "            print(cities)\n",
        "            if len(cities) == 1:\n",
        "                city = [cities[0]]\n",
        "            else:\n",
        "                city = cities\n",
        "                for item_city in cities:\n",
        "                    if item_city.lower() in text.lower():\n",
        "                       city = [item_city]\n",
        "                       break\n",
        "\n",
        "\n",
        "\n",
        "            # Определение категории\n",
        "            neural_network = False\n",
        "            if 'attachments' in item.keys():\n",
        "                attachments = item['attachments']\n",
        "                n = 0 # индекс изображени\n",
        "                for att in attachments:\n",
        "                    neural_network = True\n",
        "                    # Проверяем есть ли во вложениях фото\n",
        "                    if att['type'] == 'photo':\n",
        "                        path = './imgs/' + str(owner_id) + '_' + str(post_id) + '(' + str(n) + ').jpg'\n",
        "                        url = att['photo']['sizes'][2]['url']\n",
        "                        n += 1\n",
        "                        downlaod_img(url, path) # загрузка изображений\n",
        "            \n",
        "            # Нейросеть \n",
        "            category = [] \n",
        "            folder = './imgs/'\n",
        "            if neural_network:          \n",
        "                category_dict = {0:'Готовые блюда', 1:'Консервы', 2:'Крупы, макаронные изделия, чай и приправы', \n",
        "                      3:'Молочная продукция', 4:'Мясное, рыба', 5:'Овощи, фрукты, орехи', 6:'Реклама', \n",
        "                      7:'Соки, напитки', 8:'Хлебобулочные и кондитерские изделия'} \n",
        "                try:              \n",
        "                    predict_index = distribution_by_category()\n",
        "                    if not 6 in predict_index:\n",
        "                        for index in predict_index:\n",
        "                            category.append(category_dict[index])\n",
        "                except Exception as e: \n",
        "                    print(e) \n",
        "\n",
        "            # отчищаем папку с загрузками\n",
        "            folder = './imgs/' \n",
        "            for the_file in os.listdir(folder): \n",
        "                file_path = os.path.join(folder, the_file) \n",
        "                try: \n",
        "                    if os.path.isfile(file_path): \n",
        "                        os.unlink(file_path) \n",
        "                    elif os.path.isdir(file_path): \n",
        "                        shutil.rmtree(file_path) \n",
        "                except Exception as e: \n",
        "                    print(e) \n",
        "\n",
        "                  \n",
        "\n",
        "            #  Отправка поста боту\n",
        "            send = {'link': 'https://vk.com/' + domain + '?w=wall' + str(owner_id) + '_' + str(post_id),\n",
        "                    'category': category, 'city': city, 'text': text}\n",
        "            bot_send = json.dumps(send)\n",
        "            print(bot_send)\n",
        "            requests.get('https://nanib0ots.pythonanywhere.com/bot/post', send, cookies={'parser_key': '12345678'})\n",
        "            \n",
        "\n",
        "\n",
        "def main():\n",
        "    while (True):\n",
        "        try:\n",
        "            response = requests.get('https://nanib0ots.pythonanywhere.com/bot/get_data', cookies={'parser_key': '12345678'})\n",
        "            if response.status_code != 200:\n",
        "                print(response)\n",
        "                time.sleep(5)\n",
        "                main()\n",
        "            data = json.loads(response.content)\n",
        "            print('from db: ', data)\n",
        "        except requests.exceptions.ConnectionError:\n",
        "            print('ConnectionError')\n",
        "            time.sleep(40)\n",
        "            main()\n",
        "        vk_pars_func(data)\n",
        "        time.sleep(40)\n",
        "\n",
        "\n",
        "if __name__ == '__main__':\n",
        "    main()\n"
      ],
      "execution_count": 25,
      "outputs": [
        {
          "output_type": "stream",
          "text": [
            "from db:  [{'title': 'Фудшеринг I Отдам даром еду I Челябинск', 'city': ['Челябинск'], 'group_id': 'fudshering74'}, {'title': 'Хелпфуд. Фудшеринг. Санкт-Петербург', 'city': ['СПБ'], 'group_id': 'club_helpfoodspb'}, {'title': 'Фудшеринг Отдам даром еду', 'city': ['Москва', 'СПБ'], 'group_id': 'sharingfood'}, {'title': 'Фудшеринг Отдам даром в Иркутске', 'city': ['Иркутск'], 'group_id': 'sharingfood_irk'}, {'title': 'Наша группа', 'city': ['Иркутск'], 'group_id': 'NaniB0ots_food'}]\n",
            "{'response': {'count': 143, 'items': [{'id': 6839, 'from_id': -101826852, 'owner_id': -101826852, 'date': 1592411370, 'marked_as_ads': 0, 'post_type': 'post', 'text': '[id427437472|Μария]', 'attachments': [{'type': 'photo', 'photo': {'album_id': -7, 'date': 1592411370, 'id': 457240100, 'owner_id': -101826852, 'has_tags': False, 'access_key': 'edd1c1c37d273de998', 'post_id': 6839, 'sizes': [{'height': 130, 'url': 'https://sun9-33.userapi.com/dStlkLMK5lA4303bJQ_aFnh0AeqAveyNAQ7tcg/XKHuRD4Nhe4.jpg', 'type': 'm', 'width': 83}, {'height': 204, 'url': 'https://sun9-61.userapi.com/9cruktx6cILp_LNwSYMCacvj8M-JUcaTZtOizg/C9rPpgt76IM.jpg', 'type': 'o', 'width': 130}, {'height': 315, 'url': 'https://sun9-56.userapi.com/WaGvpSYam8Cm2By-j4iXmYkxJPnf1qeNGMKNTg/0xLH61Ovs5E.jpg', 'type': 'p', 'width': 200}, {'height': 504, 'url': 'https://sun9-46.userapi.com/aGB6Gwwy4Z_pRoIUfm6c3w5YKTjETWv3nTdTJQ/SlctSKgxNu0.jpg', 'type': 'q', 'width': 320}, {'height': 803, 'url': 'https://sun9-34.userapi.com/v56TCDDJfOicTPNPoLKA3a1pnaPigoMRVFw1dA/rXML-cQs8yQ.jpg', 'type': 'r', 'width': 510}, {'height': 75, 'url': 'https://sun9-2.userapi.com/HuBqbVbjhS3wHoo59qnAdCOZDCWuQot8Inac7A/hUzF9MmhMFA.jpg', 'type': 's', 'width': 48}, {'height': 604, 'url': 'https://sun9-63.userapi.com/zplIWzR55hLLaUonQCtOBppQnSvC38c31vfWfg/dRVIF8fcQgw.jpg', 'type': 'x', 'width': 384}, {'height': 807, 'url': 'https://sun9-38.userapi.com/k7Y55gjDQWnOT6uCVL68HQJ-bvGFfkSi3YzfdA/RLFhVlxHXH0.jpg', 'type': 'y', 'width': 513}, {'height': 1080, 'url': 'https://sun9-46.userapi.com/4cX27HsbeNV7C0xZU9rm0hJWYtLa8v5wm98MEw/VWItTm_Sczk.jpg', 'type': 'z', 'width': 686}], 'text': '', 'user_id': 100}}], 'post_source': {'type': 'api', 'platform': 'android'}, 'comments': {'count': 3, 'can_post': 1, 'groups_can_post': True}, 'likes': {'count': 2, 'user_likes': 0, 'can_like': 1, 'can_publish': 1}, 'reposts': {'count': 0, 'user_reposted': 0}, 'views': {'count': 544}}]}}\n",
            "link: https://vk.com/fudshering74?w=wall-101826852_6839\n",
            "[id427437472|Μария]\n",
            "['Челябинск']\n",
            "Found 1 validated image filenames.\n",
            "Молочка\n",
            "{\"link\": \"https://vk.com/fudshering74?w=wall-101826852_6839\", \"category\": [\"\\u041c\\u044f\\u0441\\u043d\\u043e\\u0435, \\u0440\\u044b\\u0431\\u0430\"], \"city\": [\"\\u0427\\u0435\\u043b\\u044f\\u0431\\u0438\\u043d\\u0441\\u043a\"], \"text\": \"[id427437472|\\u039c\\u0430\\u0440\\u0438\\u044f]\"}\n",
            "{'response': {'count': 1386, 'items': [{'id': 10348, 'from_id': 3780810, 'owner_id': -161997638, 'date': 1592690157, 'marked_as_ads': 0, 'post_type': 'post', 'text': 'Кудрово, даром, свежая просрочка, нуждающимся которые не прячутся. Забрать в 9 утра, или после 21. ПисАть в личку. С печенюшками осторожно.', 'attachments': [{'type': 'photo', 'photo': {'album_id': -8, 'date': 1592690157, 'id': 457241329, 'owner_id': -161997638, 'has_tags': False, 'access_key': 'eb8eb917526b15d31d', 'post_id': 10348, 'sizes': [{'height': 130, 'url': 'https://sun9-53.userapi.com/VoGzXCE_AOjl8H2f3L3uXw4MgNuepzkuDOAXfQ/TphZjiP3G3E.jpg', 'type': 'm', 'width': 97}, {'height': 173, 'url': 'https://sun9-62.userapi.com/bYzdVNknbXDu3-nbpdeORL2AyvXFlOi9QvcPaw/_q42qiZSl2c.jpg', 'type': 'o', 'width': 130}, {'height': 267, 'url': 'https://sun9-6.userapi.com/e1r58BMbey09q2HhuBVE0C7rd4a6wbB8fftPfQ/neSE7ySDZQA.jpg', 'type': 'p', 'width': 200}, {'height': 427, 'url': 'https://sun9-62.userapi.com/3wuP_NmQrNMOONPf4-bch3QHx36zPVzUaNUkSQ/ycVF3_Y_awQ.jpg', 'type': 'q', 'width': 320}, {'height': 680, 'url': 'https://sun9-64.userapi.com/C9CVvOX3gC9YKnJsQron5l9-0IVkPdmFfh9d9Q/vgg4SwQeS1Y.jpg', 'type': 'r', 'width': 510}, {'height': 75, 'url': 'https://sun9-33.userapi.com/UhekbXSGLXA2fWLpt9RTHM1Z3IjH76WXbyF45Q/rDZ_JpkIR-w.jpg', 'type': 's', 'width': 56}, {'height': 1376, 'url': 'https://sun9-51.userapi.com/ohAJ2UkcAnHN3cTL8yknkzABODZg8uUj8ERRcw/iHyV4w7m8D0.jpg', 'type': 'w', 'width': 1032}, {'height': 604, 'url': 'https://sun9-25.userapi.com/g3U2oVz-E99O3t-56sht5xVhHZ5v4tDH57V2pQ/8jFCKB806Kw.jpg', 'type': 'x', 'width': 453}, {'height': 807, 'url': 'https://sun9-72.userapi.com/7Ryk_JC9ICOZopydQte8l7SpM_n0xMstfobnkA/2s_0oE9F5Hc.jpg', 'type': 'y', 'width': 605}, {'height': 1080, 'url': 'https://sun9-60.userapi.com/tTSmTPzy93HlkzS309vUEaEes_NDsWZumsLa8g/P6ACejsPoiM.jpg', 'type': 'z', 'width': 810}], 'text': '', 'user_id': 3780810}}], 'post_source': {'type': 'api', 'platform': 'android'}, 'comments': {'count': 0, 'can_post': 1, 'groups_can_post': True}, 'likes': {'count': 0, 'user_likes': 0, 'can_like': 1, 'can_publish': 0}, 'reposts': {'count': 0, 'user_reposted': 0}}]}}\n",
            "link: https://vk.com/club_helpfoodspb?w=wall-161997638_10348\n",
            "Кудрово, даром, свежая просрочка, нуждающимся которые не прячутся. Забрать в 9 утра, или после 21. ПисАть в личку. С печенюшками осторожно.\n",
            "['СПБ']\n",
            "Found 1 validated image filenames.\n",
            "Хлеб\n",
            "{\"link\": \"https://vk.com/club_helpfoodspb?w=wall-161997638_10348\", \"category\": [\"\\u0425\\u043b\\u0435\\u0431\\u043e\\u0431\\u0443\\u043b\\u043e\\u0447\\u043d\\u044b\\u0435 \\u0438 \\u043a\\u043e\\u043d\\u0434\\u0438\\u0442\\u0435\\u0440\\u0441\\u043a\\u0438\\u0435 \\u0438\\u0437\\u0434\\u0435\\u043b\\u0438\\u044f\"], \"city\": [\"\\u0421\\u041f\\u0411\"], \"text\": \"\\u041a\\u0443\\u0434\\u0440\\u043e\\u0432\\u043e, \\u0434\\u0430\\u0440\\u043e\\u043c, \\u0441\\u0432\\u0435\\u0436\\u0430\\u044f \\u043f\\u0440\\u043e\\u0441\\u0440\\u043e\\u0447\\u043a\\u0430, \\u043d\\u0443\\u0436\\u0434\\u0430\\u044e\\u0449\\u0438\\u043c\\u0441\\u044f \\u043a\\u043e\\u0442\\u043e\\u0440\\u044b\\u0435 \\u043d\\u0435 \\u043f\\u0440\\u044f\\u0447\\u0443\\u0442\\u0441\\u044f. \\u0417\\u0430\\u0431\\u0440\\u0430\\u0442\\u044c \\u0432 9 \\u0443\\u0442\\u0440\\u0430, \\u0438\\u043b\\u0438 \\u043f\\u043e\\u0441\\u043b\\u0435 21. \\u041f\\u0438\\u0441\\u0410\\u0442\\u044c \\u0432 \\u043b\\u0438\\u0447\\u043a\\u0443. \\u0421 \\u043f\\u0435\\u0447\\u0435\\u043d\\u044e\\u0448\\u043a\\u0430\\u043c\\u0438 \\u043e\\u0441\\u0442\\u043e\\u0440\\u043e\\u0436\\u043d\\u043e.\"}\n",
            "{'response': {'count': 38963, 'items': [{'id': 520629, 'from_id': 521004601, 'owner_id': -109125816, 'date': 1592691120, 'marked_as_ads': 0, 'post_type': 'post', 'text': 'В связи с отъездом домой на каникулы отдам крупы. Мюсли, одна порция пасты, гороховый суп, гречка 1 кг, кукурузные хлопья на завтрак, примерно стакан муки, имбирный кисель. Все открытое, но хранилось недолго, самые старые открыты в конце апреля. 20 минут пешком от Автово, или 6-7 минут на транспорте.', 'attachments': [{'type': 'photo', 'photo': {'album_id': -8, 'date': 1592691120, 'id': 457315191, 'owner_id': -109125816, 'has_tags': False, 'access_key': '9420e43745b062c566', 'post_id': 520629, 'sizes': [{'height': 130, 'url': 'https://sun9-12.userapi.com/8irsSJjhHmX--lO33llvtSWr5HIOp-yKZDtNbw/D7KvsnHcGxc.jpg', 'type': 'm', 'width': 73}, {'height': 231, 'url': 'https://sun9-36.userapi.com/sDHD_b5GizFOJWlIo5AH2TYhS7oKnhCtCgBv_w/LRsX9Ajaeiw.jpg', 'type': 'o', 'width': 130}, {'height': 355, 'url': 'https://sun9-47.userapi.com/_mdBR987x1T8B_wt5k15vwIm-AnMlsd_bWR_5Q/NujFs4xj5nc.jpg', 'type': 'p', 'width': 200}, {'height': 569, 'url': 'https://sun9-47.userapi.com/vZBT0dCBNrogBTJmjuLP_MhfTN62MA3K7ZVNKg/jWHRErQUsC8.jpg', 'type': 'q', 'width': 320}, {'height': 900, 'url': 'https://sun9-31.userapi.com/M0tBlDxHQA9ZYITBjJ2ZMozke_Q6C_sNrtSmPg/8cdRIArg6sY.jpg', 'type': 'r', 'width': 510}, {'height': 75, 'url': 'https://sun9-19.userapi.com/YopXKeEsIfB6LMRFGUXRnTQpDfCxIsqs5hVyCw/_UCqJkosm0M.jpg', 'type': 's', 'width': 42}, {'height': 604, 'url': 'https://sun9-47.userapi.com/0mZbTHBCVnviJWxwaITD74mkH9oob6egCcvNqw/XWdc1JBkfBA.jpg', 'type': 'x', 'width': 340}, {'height': 807, 'url': 'https://sun9-19.userapi.com/5ax-OlEKio72-7ObwQMjSCqaIelXHjRw1ILN6Q/H6ycB929Xok.jpg', 'type': 'y', 'width': 454}, {'height': 960, 'url': 'https://sun9-20.userapi.com/wwgcfkAp4xEfl5m5DDEb-xYORsscUXMl2hWNuQ/4jyiWJr5tX4.jpg', 'type': 'z', 'width': 540}], 'text': '', 'user_id': 521004601}}], 'post_source': {'type': 'api', 'platform': 'iphone'}, 'comments': {'count': 0, 'can_post': 1, 'groups_can_post': True}, 'likes': {'count': 1, 'user_likes': 0, 'can_like': 1, 'can_publish': 0}, 'reposts': {'count': 0, 'user_reposted': 0}}]}}\n",
            "link: https://vk.com/sharingfood?w=wall-109125816_520629\n",
            "В связи с отъездом домой на каникулы отдам крупы. Мюсли, одна порция пасты, гороховый суп, гречка 1 кг, кукурузные хлопья на завтрак, примерно стакан муки, имбирный кисель. Все открытое, но хранилось недолго, самые старые открыты в конце апреля. 20 минут пешком от Автово, или 6-7 минут на транспорте.\n",
            "['Москва', 'СПБ']\n",
            "Found 1 validated image filenames.\n",
            "Молочка\n",
            "{\"link\": \"https://vk.com/sharingfood?w=wall-109125816_520629\", \"category\": [\"\\u041c\\u044f\\u0441\\u043d\\u043e\\u0435, \\u0440\\u044b\\u0431\\u0430\"], \"city\": [\"\\u041c\\u043e\\u0441\\u043a\\u0432\\u0430\", \"\\u0421\\u041f\\u0411\"], \"text\": \"\\u0412 \\u0441\\u0432\\u044f\\u0437\\u0438 \\u0441 \\u043e\\u0442\\u044a\\u0435\\u0437\\u0434\\u043e\\u043c \\u0434\\u043e\\u043c\\u043e\\u0439 \\u043d\\u0430 \\u043a\\u0430\\u043d\\u0438\\u043a\\u0443\\u043b\\u044b \\u043e\\u0442\\u0434\\u0430\\u043c \\u043a\\u0440\\u0443\\u043f\\u044b. \\u041c\\u044e\\u0441\\u043b\\u0438, \\u043e\\u0434\\u043d\\u0430 \\u043f\\u043e\\u0440\\u0446\\u0438\\u044f \\u043f\\u0430\\u0441\\u0442\\u044b, \\u0433\\u043e\\u0440\\u043e\\u0445\\u043e\\u0432\\u044b\\u0439 \\u0441\\u0443\\u043f, \\u0433\\u0440\\u0435\\u0447\\u043a\\u0430 1 \\u043a\\u0433, \\u043a\\u0443\\u043a\\u0443\\u0440\\u0443\\u0437\\u043d\\u044b\\u0435 \\u0445\\u043b\\u043e\\u043f\\u044c\\u044f \\u043d\\u0430 \\u0437\\u0430\\u0432\\u0442\\u0440\\u0430\\u043a, \\u043f\\u0440\\u0438\\u043c\\u0435\\u0440\\u043d\\u043e \\u0441\\u0442\\u0430\\u043a\\u0430\\u043d \\u043c\\u0443\\u043a\\u0438, \\u0438\\u043c\\u0431\\u0438\\u0440\\u043d\\u044b\\u0439 \\u043a\\u0438\\u0441\\u0435\\u043b\\u044c. \\u0412\\u0441\\u0435 \\u043e\\u0442\\u043a\\u0440\\u044b\\u0442\\u043e\\u0435, \\u043d\\u043e \\u0445\\u0440\\u0430\\u043d\\u0438\\u043b\\u043e\\u0441\\u044c \\u043d\\u0435\\u0434\\u043e\\u043b\\u0433\\u043e, \\u0441\\u0430\\u043c\\u044b\\u0435 \\u0441\\u0442\\u0430\\u0440\\u044b\\u0435 \\u043e\\u0442\\u043a\\u0440\\u044b\\u0442\\u044b \\u0432 \\u043a\\u043e\\u043d\\u0446\\u0435 \\u0430\\u043f\\u0440\\u0435\\u043b\\u044f. 20 \\u043c\\u0438\\u043d\\u0443\\u0442 \\u043f\\u0435\\u0448\\u043a\\u043e\\u043c \\u043e\\u0442 \\u0410\\u0432\\u0442\\u043e\\u0432\\u043e, \\u0438\\u043b\\u0438 6-7 \\u043c\\u0438\\u043d\\u0443\\u0442 \\u043d\\u0430 \\u0442\\u0440\\u0430\\u043d\\u0441\\u043f\\u043e\\u0440\\u0442\\u0435.\"}\n"
          ],
          "name": "stdout"
        },
        {
          "output_type": "error",
          "ename": "KeyboardInterrupt",
          "evalue": "ignored",
          "traceback": [
            "\u001b[0;31m---------------------------------------------------------------------------\u001b[0m",
            "\u001b[0;31mKeyboardInterrupt\u001b[0m                         Traceback (most recent call last)",
            "\u001b[0;32m<ipython-input-25-4983be6b3700>\u001b[0m in \u001b[0;36m<module>\u001b[0;34m()\u001b[0m\n\u001b[1;32m    140\u001b[0m \u001b[0;34m\u001b[0m\u001b[0m\n\u001b[1;32m    141\u001b[0m \u001b[0;32mif\u001b[0m \u001b[0m__name__\u001b[0m \u001b[0;34m==\u001b[0m \u001b[0;34m'__main__'\u001b[0m\u001b[0;34m:\u001b[0m\u001b[0;34m\u001b[0m\u001b[0;34m\u001b[0m\u001b[0m\n\u001b[0;32m--> 142\u001b[0;31m     \u001b[0mmain\u001b[0m\u001b[0;34m(\u001b[0m\u001b[0;34m)\u001b[0m\u001b[0;34m\u001b[0m\u001b[0;34m\u001b[0m\u001b[0m\n\u001b[0m",
            "\u001b[0;32m<ipython-input-25-4983be6b3700>\u001b[0m in \u001b[0;36mmain\u001b[0;34m()\u001b[0m\n\u001b[1;32m    135\u001b[0m             \u001b[0mtime\u001b[0m\u001b[0;34m.\u001b[0m\u001b[0msleep\u001b[0m\u001b[0;34m(\u001b[0m\u001b[0;36m40\u001b[0m\u001b[0;34m)\u001b[0m\u001b[0;34m\u001b[0m\u001b[0;34m\u001b[0m\u001b[0m\n\u001b[1;32m    136\u001b[0m             \u001b[0mmain\u001b[0m\u001b[0;34m(\u001b[0m\u001b[0;34m)\u001b[0m\u001b[0;34m\u001b[0m\u001b[0;34m\u001b[0m\u001b[0m\n\u001b[0;32m--> 137\u001b[0;31m         \u001b[0mvk_pars_func\u001b[0m\u001b[0;34m(\u001b[0m\u001b[0mdata\u001b[0m\u001b[0;34m)\u001b[0m\u001b[0;34m\u001b[0m\u001b[0;34m\u001b[0m\u001b[0m\n\u001b[0m\u001b[1;32m    138\u001b[0m         \u001b[0mtime\u001b[0m\u001b[0;34m.\u001b[0m\u001b[0msleep\u001b[0m\u001b[0;34m(\u001b[0m\u001b[0;36m40\u001b[0m\u001b[0;34m)\u001b[0m\u001b[0;34m\u001b[0m\u001b[0;34m\u001b[0m\u001b[0m\n\u001b[1;32m    139\u001b[0m \u001b[0;34m\u001b[0m\u001b[0m\n",
            "\u001b[0;32m<ipython-input-25-4983be6b3700>\u001b[0m in \u001b[0;36mvk_pars_func\u001b[0;34m(data)\u001b[0m\n\u001b[1;32m     43\u001b[0m         \u001b[0mcities\u001b[0m \u001b[0;34m=\u001b[0m \u001b[0mlist\u001b[0m\u001b[0;34m(\u001b[0m\u001b[0mset\u001b[0m\u001b[0;34m(\u001b[0m\u001b[0mdata\u001b[0m\u001b[0;34m[\u001b[0m\u001b[0mi\u001b[0m\u001b[0;34m]\u001b[0m\u001b[0;34m[\u001b[0m\u001b[0;34m'city'\u001b[0m\u001b[0;34m]\u001b[0m\u001b[0;34m)\u001b[0m\u001b[0;34m)\u001b[0m\u001b[0;34m\u001b[0m\u001b[0;34m\u001b[0m\u001b[0m\n\u001b[1;32m     44\u001b[0m \u001b[0;34m\u001b[0m\u001b[0m\n\u001b[0;32m---> 45\u001b[0;31m         \u001b[0mvk_answer\u001b[0m \u001b[0;34m=\u001b[0m \u001b[0mvk_respons\u001b[0m\u001b[0;34m(\u001b[0m\u001b[0mdomain\u001b[0m\u001b[0;34m,\u001b[0m \u001b[0mtoken\u001b[0m\u001b[0;34m,\u001b[0m \u001b[0mversion\u001b[0m\u001b[0;34m)\u001b[0m\u001b[0;34m\u001b[0m\u001b[0;34m\u001b[0m\u001b[0m\n\u001b[0m\u001b[1;32m     46\u001b[0m         \u001b[0mprint\u001b[0m\u001b[0;34m(\u001b[0m\u001b[0mvk_answer\u001b[0m\u001b[0;34m)\u001b[0m\u001b[0;34m\u001b[0m\u001b[0;34m\u001b[0m\u001b[0m\n\u001b[1;32m     47\u001b[0m         \u001b[0mpost_id\u001b[0m \u001b[0;34m=\u001b[0m \u001b[0mvk_answer\u001b[0m\u001b[0;34m[\u001b[0m\u001b[0;34m'response'\u001b[0m\u001b[0;34m]\u001b[0m\u001b[0;34m[\u001b[0m\u001b[0;34m'items'\u001b[0m\u001b[0;34m]\u001b[0m\u001b[0;34m[\u001b[0m\u001b[0;36m0\u001b[0m\u001b[0;34m]\u001b[0m\u001b[0;34m[\u001b[0m\u001b[0;34m'id'\u001b[0m\u001b[0;34m]\u001b[0m\u001b[0;34m\u001b[0m\u001b[0;34m\u001b[0m\u001b[0m\n",
            "\u001b[0;32m<ipython-input-25-4983be6b3700>\u001b[0m in \u001b[0;36mvk_respons\u001b[0;34m(domain, token, version, count, offset)\u001b[0m\n\u001b[1;32m     31\u001b[0m                                 \u001b[0;34m'domain'\u001b[0m\u001b[0;34m:\u001b[0m \u001b[0mdomain\u001b[0m\u001b[0;34m,\u001b[0m\u001b[0;34m\u001b[0m\u001b[0;34m\u001b[0m\u001b[0m\n\u001b[1;32m     32\u001b[0m                                 \u001b[0;34m'count'\u001b[0m\u001b[0;34m:\u001b[0m \u001b[0mcount\u001b[0m\u001b[0;34m,\u001b[0m\u001b[0;34m\u001b[0m\u001b[0;34m\u001b[0m\u001b[0m\n\u001b[0;32m---> 33\u001b[0;31m                                 \u001b[0;34m'offset'\u001b[0m\u001b[0;34m:\u001b[0m \u001b[0moffset\u001b[0m\u001b[0;34m\u001b[0m\u001b[0;34m\u001b[0m\u001b[0m\n\u001b[0m\u001b[1;32m     34\u001b[0m                             }\n\u001b[1;32m     35\u001b[0m                             )\n",
            "\u001b[0;32m/usr/local/lib/python3.6/dist-packages/requests/api.py\u001b[0m in \u001b[0;36mget\u001b[0;34m(url, params, **kwargs)\u001b[0m\n\u001b[1;32m     74\u001b[0m \u001b[0;34m\u001b[0m\u001b[0m\n\u001b[1;32m     75\u001b[0m     \u001b[0mkwargs\u001b[0m\u001b[0;34m.\u001b[0m\u001b[0msetdefault\u001b[0m\u001b[0;34m(\u001b[0m\u001b[0;34m'allow_redirects'\u001b[0m\u001b[0;34m,\u001b[0m \u001b[0;32mTrue\u001b[0m\u001b[0;34m)\u001b[0m\u001b[0;34m\u001b[0m\u001b[0;34m\u001b[0m\u001b[0m\n\u001b[0;32m---> 76\u001b[0;31m     \u001b[0;32mreturn\u001b[0m \u001b[0mrequest\u001b[0m\u001b[0;34m(\u001b[0m\u001b[0;34m'get'\u001b[0m\u001b[0;34m,\u001b[0m \u001b[0murl\u001b[0m\u001b[0;34m,\u001b[0m \u001b[0mparams\u001b[0m\u001b[0;34m=\u001b[0m\u001b[0mparams\u001b[0m\u001b[0;34m,\u001b[0m \u001b[0;34m**\u001b[0m\u001b[0mkwargs\u001b[0m\u001b[0;34m)\u001b[0m\u001b[0;34m\u001b[0m\u001b[0;34m\u001b[0m\u001b[0m\n\u001b[0m\u001b[1;32m     77\u001b[0m \u001b[0;34m\u001b[0m\u001b[0m\n\u001b[1;32m     78\u001b[0m \u001b[0;34m\u001b[0m\u001b[0m\n",
            "\u001b[0;32m/usr/local/lib/python3.6/dist-packages/requests/api.py\u001b[0m in \u001b[0;36mrequest\u001b[0;34m(method, url, **kwargs)\u001b[0m\n\u001b[1;32m     59\u001b[0m     \u001b[0;31m# cases, and look like a memory leak in others.\u001b[0m\u001b[0;34m\u001b[0m\u001b[0;34m\u001b[0m\u001b[0;34m\u001b[0m\u001b[0m\n\u001b[1;32m     60\u001b[0m     \u001b[0;32mwith\u001b[0m \u001b[0msessions\u001b[0m\u001b[0;34m.\u001b[0m\u001b[0mSession\u001b[0m\u001b[0;34m(\u001b[0m\u001b[0;34m)\u001b[0m \u001b[0;32mas\u001b[0m \u001b[0msession\u001b[0m\u001b[0;34m:\u001b[0m\u001b[0;34m\u001b[0m\u001b[0;34m\u001b[0m\u001b[0m\n\u001b[0;32m---> 61\u001b[0;31m         \u001b[0;32mreturn\u001b[0m \u001b[0msession\u001b[0m\u001b[0;34m.\u001b[0m\u001b[0mrequest\u001b[0m\u001b[0;34m(\u001b[0m\u001b[0mmethod\u001b[0m\u001b[0;34m=\u001b[0m\u001b[0mmethod\u001b[0m\u001b[0;34m,\u001b[0m \u001b[0murl\u001b[0m\u001b[0;34m=\u001b[0m\u001b[0murl\u001b[0m\u001b[0;34m,\u001b[0m \u001b[0;34m**\u001b[0m\u001b[0mkwargs\u001b[0m\u001b[0;34m)\u001b[0m\u001b[0;34m\u001b[0m\u001b[0;34m\u001b[0m\u001b[0m\n\u001b[0m\u001b[1;32m     62\u001b[0m \u001b[0;34m\u001b[0m\u001b[0m\n\u001b[1;32m     63\u001b[0m \u001b[0;34m\u001b[0m\u001b[0m\n",
            "\u001b[0;32m/usr/local/lib/python3.6/dist-packages/requests/sessions.py\u001b[0m in \u001b[0;36mrequest\u001b[0;34m(self, method, url, params, data, headers, cookies, files, auth, timeout, allow_redirects, proxies, hooks, stream, verify, cert, json)\u001b[0m\n\u001b[1;32m    528\u001b[0m         }\n\u001b[1;32m    529\u001b[0m         \u001b[0msend_kwargs\u001b[0m\u001b[0;34m.\u001b[0m\u001b[0mupdate\u001b[0m\u001b[0;34m(\u001b[0m\u001b[0msettings\u001b[0m\u001b[0;34m)\u001b[0m\u001b[0;34m\u001b[0m\u001b[0;34m\u001b[0m\u001b[0m\n\u001b[0;32m--> 530\u001b[0;31m         \u001b[0mresp\u001b[0m \u001b[0;34m=\u001b[0m \u001b[0mself\u001b[0m\u001b[0;34m.\u001b[0m\u001b[0msend\u001b[0m\u001b[0;34m(\u001b[0m\u001b[0mprep\u001b[0m\u001b[0;34m,\u001b[0m \u001b[0;34m**\u001b[0m\u001b[0msend_kwargs\u001b[0m\u001b[0;34m)\u001b[0m\u001b[0;34m\u001b[0m\u001b[0;34m\u001b[0m\u001b[0m\n\u001b[0m\u001b[1;32m    531\u001b[0m \u001b[0;34m\u001b[0m\u001b[0m\n\u001b[1;32m    532\u001b[0m         \u001b[0;32mreturn\u001b[0m \u001b[0mresp\u001b[0m\u001b[0;34m\u001b[0m\u001b[0;34m\u001b[0m\u001b[0m\n",
            "\u001b[0;32m/usr/local/lib/python3.6/dist-packages/requests/sessions.py\u001b[0m in \u001b[0;36msend\u001b[0;34m(self, request, **kwargs)\u001b[0m\n\u001b[1;32m    641\u001b[0m \u001b[0;34m\u001b[0m\u001b[0m\n\u001b[1;32m    642\u001b[0m         \u001b[0;31m# Send the request\u001b[0m\u001b[0;34m\u001b[0m\u001b[0;34m\u001b[0m\u001b[0;34m\u001b[0m\u001b[0m\n\u001b[0;32m--> 643\u001b[0;31m         \u001b[0mr\u001b[0m \u001b[0;34m=\u001b[0m \u001b[0madapter\u001b[0m\u001b[0;34m.\u001b[0m\u001b[0msend\u001b[0m\u001b[0;34m(\u001b[0m\u001b[0mrequest\u001b[0m\u001b[0;34m,\u001b[0m \u001b[0;34m**\u001b[0m\u001b[0mkwargs\u001b[0m\u001b[0;34m)\u001b[0m\u001b[0;34m\u001b[0m\u001b[0;34m\u001b[0m\u001b[0m\n\u001b[0m\u001b[1;32m    644\u001b[0m \u001b[0;34m\u001b[0m\u001b[0m\n\u001b[1;32m    645\u001b[0m         \u001b[0;31m# Total elapsed time of the request (approximately)\u001b[0m\u001b[0;34m\u001b[0m\u001b[0;34m\u001b[0m\u001b[0;34m\u001b[0m\u001b[0m\n",
            "\u001b[0;32m/usr/local/lib/python3.6/dist-packages/requests/adapters.py\u001b[0m in \u001b[0;36msend\u001b[0;34m(self, request, stream, timeout, verify, cert, proxies)\u001b[0m\n\u001b[1;32m    447\u001b[0m                     \u001b[0mdecode_content\u001b[0m\u001b[0;34m=\u001b[0m\u001b[0;32mFalse\u001b[0m\u001b[0;34m,\u001b[0m\u001b[0;34m\u001b[0m\u001b[0;34m\u001b[0m\u001b[0m\n\u001b[1;32m    448\u001b[0m                     \u001b[0mretries\u001b[0m\u001b[0;34m=\u001b[0m\u001b[0mself\u001b[0m\u001b[0;34m.\u001b[0m\u001b[0mmax_retries\u001b[0m\u001b[0;34m,\u001b[0m\u001b[0;34m\u001b[0m\u001b[0;34m\u001b[0m\u001b[0m\n\u001b[0;32m--> 449\u001b[0;31m                     \u001b[0mtimeout\u001b[0m\u001b[0;34m=\u001b[0m\u001b[0mtimeout\u001b[0m\u001b[0;34m\u001b[0m\u001b[0;34m\u001b[0m\u001b[0m\n\u001b[0m\u001b[1;32m    450\u001b[0m                 )\n\u001b[1;32m    451\u001b[0m \u001b[0;34m\u001b[0m\u001b[0m\n",
            "\u001b[0;32m/usr/local/lib/python3.6/dist-packages/urllib3/connectionpool.py\u001b[0m in \u001b[0;36murlopen\u001b[0;34m(self, method, url, body, headers, retries, redirect, assert_same_host, timeout, pool_timeout, release_conn, chunked, body_pos, **response_kw)\u001b[0m\n\u001b[1;32m    598\u001b[0m                                                   \u001b[0mtimeout\u001b[0m\u001b[0;34m=\u001b[0m\u001b[0mtimeout_obj\u001b[0m\u001b[0;34m,\u001b[0m\u001b[0;34m\u001b[0m\u001b[0;34m\u001b[0m\u001b[0m\n\u001b[1;32m    599\u001b[0m                                                   \u001b[0mbody\u001b[0m\u001b[0;34m=\u001b[0m\u001b[0mbody\u001b[0m\u001b[0;34m,\u001b[0m \u001b[0mheaders\u001b[0m\u001b[0;34m=\u001b[0m\u001b[0mheaders\u001b[0m\u001b[0;34m,\u001b[0m\u001b[0;34m\u001b[0m\u001b[0;34m\u001b[0m\u001b[0m\n\u001b[0;32m--> 600\u001b[0;31m                                                   chunked=chunked)\n\u001b[0m\u001b[1;32m    601\u001b[0m \u001b[0;34m\u001b[0m\u001b[0m\n\u001b[1;32m    602\u001b[0m             \u001b[0;31m# If we're going to release the connection in ``finally:``, then\u001b[0m\u001b[0;34m\u001b[0m\u001b[0;34m\u001b[0m\u001b[0;34m\u001b[0m\u001b[0m\n",
            "\u001b[0;32m/usr/local/lib/python3.6/dist-packages/urllib3/connectionpool.py\u001b[0m in \u001b[0;36m_make_request\u001b[0;34m(self, conn, method, url, timeout, chunked, **httplib_request_kw)\u001b[0m\n\u001b[1;32m    341\u001b[0m         \u001b[0;31m# Trigger any extra validation we need to do.\u001b[0m\u001b[0;34m\u001b[0m\u001b[0;34m\u001b[0m\u001b[0;34m\u001b[0m\u001b[0m\n\u001b[1;32m    342\u001b[0m         \u001b[0;32mtry\u001b[0m\u001b[0;34m:\u001b[0m\u001b[0;34m\u001b[0m\u001b[0;34m\u001b[0m\u001b[0m\n\u001b[0;32m--> 343\u001b[0;31m             \u001b[0mself\u001b[0m\u001b[0;34m.\u001b[0m\u001b[0m_validate_conn\u001b[0m\u001b[0;34m(\u001b[0m\u001b[0mconn\u001b[0m\u001b[0;34m)\u001b[0m\u001b[0;34m\u001b[0m\u001b[0;34m\u001b[0m\u001b[0m\n\u001b[0m\u001b[1;32m    344\u001b[0m         \u001b[0;32mexcept\u001b[0m \u001b[0;34m(\u001b[0m\u001b[0mSocketTimeout\u001b[0m\u001b[0;34m,\u001b[0m \u001b[0mBaseSSLError\u001b[0m\u001b[0;34m)\u001b[0m \u001b[0;32mas\u001b[0m \u001b[0me\u001b[0m\u001b[0;34m:\u001b[0m\u001b[0;34m\u001b[0m\u001b[0;34m\u001b[0m\u001b[0m\n\u001b[1;32m    345\u001b[0m             \u001b[0;31m# Py2 raises this as a BaseSSLError, Py3 raises it as socket timeout.\u001b[0m\u001b[0;34m\u001b[0m\u001b[0;34m\u001b[0m\u001b[0;34m\u001b[0m\u001b[0m\n",
            "\u001b[0;32m/usr/local/lib/python3.6/dist-packages/urllib3/connectionpool.py\u001b[0m in \u001b[0;36m_validate_conn\u001b[0;34m(self, conn)\u001b[0m\n\u001b[1;32m    837\u001b[0m         \u001b[0;31m# Force connect early to allow us to validate the connection.\u001b[0m\u001b[0;34m\u001b[0m\u001b[0;34m\u001b[0m\u001b[0;34m\u001b[0m\u001b[0m\n\u001b[1;32m    838\u001b[0m         \u001b[0;32mif\u001b[0m \u001b[0;32mnot\u001b[0m \u001b[0mgetattr\u001b[0m\u001b[0;34m(\u001b[0m\u001b[0mconn\u001b[0m\u001b[0;34m,\u001b[0m \u001b[0;34m'sock'\u001b[0m\u001b[0;34m,\u001b[0m \u001b[0;32mNone\u001b[0m\u001b[0;34m)\u001b[0m\u001b[0;34m:\u001b[0m  \u001b[0;31m# AppEngine might not have  `.sock`\u001b[0m\u001b[0;34m\u001b[0m\u001b[0;34m\u001b[0m\u001b[0m\n\u001b[0;32m--> 839\u001b[0;31m             \u001b[0mconn\u001b[0m\u001b[0;34m.\u001b[0m\u001b[0mconnect\u001b[0m\u001b[0;34m(\u001b[0m\u001b[0;34m)\u001b[0m\u001b[0;34m\u001b[0m\u001b[0;34m\u001b[0m\u001b[0m\n\u001b[0m\u001b[1;32m    840\u001b[0m \u001b[0;34m\u001b[0m\u001b[0m\n\u001b[1;32m    841\u001b[0m         \u001b[0;32mif\u001b[0m \u001b[0;32mnot\u001b[0m \u001b[0mconn\u001b[0m\u001b[0;34m.\u001b[0m\u001b[0mis_verified\u001b[0m\u001b[0;34m:\u001b[0m\u001b[0;34m\u001b[0m\u001b[0;34m\u001b[0m\u001b[0m\n",
            "\u001b[0;32m/usr/local/lib/python3.6/dist-packages/urllib3/connection.py\u001b[0m in \u001b[0;36mconnect\u001b[0;34m(self)\u001b[0m\n\u001b[1;32m    299\u001b[0m     \u001b[0;32mdef\u001b[0m \u001b[0mconnect\u001b[0m\u001b[0;34m(\u001b[0m\u001b[0mself\u001b[0m\u001b[0;34m)\u001b[0m\u001b[0;34m:\u001b[0m\u001b[0;34m\u001b[0m\u001b[0;34m\u001b[0m\u001b[0m\n\u001b[1;32m    300\u001b[0m         \u001b[0;31m# Add certificate verification\u001b[0m\u001b[0;34m\u001b[0m\u001b[0;34m\u001b[0m\u001b[0;34m\u001b[0m\u001b[0m\n\u001b[0;32m--> 301\u001b[0;31m         \u001b[0mconn\u001b[0m \u001b[0;34m=\u001b[0m \u001b[0mself\u001b[0m\u001b[0;34m.\u001b[0m\u001b[0m_new_conn\u001b[0m\u001b[0;34m(\u001b[0m\u001b[0;34m)\u001b[0m\u001b[0;34m\u001b[0m\u001b[0;34m\u001b[0m\u001b[0m\n\u001b[0m\u001b[1;32m    302\u001b[0m         \u001b[0mhostname\u001b[0m \u001b[0;34m=\u001b[0m \u001b[0mself\u001b[0m\u001b[0;34m.\u001b[0m\u001b[0mhost\u001b[0m\u001b[0;34m\u001b[0m\u001b[0;34m\u001b[0m\u001b[0m\n\u001b[1;32m    303\u001b[0m \u001b[0;34m\u001b[0m\u001b[0m\n",
            "\u001b[0;32m/usr/local/lib/python3.6/dist-packages/urllib3/connection.py\u001b[0m in \u001b[0;36m_new_conn\u001b[0;34m(self)\u001b[0m\n\u001b[1;32m    157\u001b[0m         \u001b[0;32mtry\u001b[0m\u001b[0;34m:\u001b[0m\u001b[0;34m\u001b[0m\u001b[0;34m\u001b[0m\u001b[0m\n\u001b[1;32m    158\u001b[0m             conn = connection.create_connection(\n\u001b[0;32m--> 159\u001b[0;31m                 (self._dns_host, self.port), self.timeout, **extra_kw)\n\u001b[0m\u001b[1;32m    160\u001b[0m \u001b[0;34m\u001b[0m\u001b[0m\n\u001b[1;32m    161\u001b[0m         \u001b[0;32mexcept\u001b[0m \u001b[0mSocketTimeout\u001b[0m\u001b[0;34m:\u001b[0m\u001b[0;34m\u001b[0m\u001b[0;34m\u001b[0m\u001b[0m\n",
            "\u001b[0;32m/usr/local/lib/python3.6/dist-packages/urllib3/util/connection.py\u001b[0m in \u001b[0;36mcreate_connection\u001b[0;34m(address, timeout, source_address, socket_options)\u001b[0m\n\u001b[1;32m     68\u001b[0m             \u001b[0;32mif\u001b[0m \u001b[0msource_address\u001b[0m\u001b[0;34m:\u001b[0m\u001b[0;34m\u001b[0m\u001b[0;34m\u001b[0m\u001b[0m\n\u001b[1;32m     69\u001b[0m                 \u001b[0msock\u001b[0m\u001b[0;34m.\u001b[0m\u001b[0mbind\u001b[0m\u001b[0;34m(\u001b[0m\u001b[0msource_address\u001b[0m\u001b[0;34m)\u001b[0m\u001b[0;34m\u001b[0m\u001b[0;34m\u001b[0m\u001b[0m\n\u001b[0;32m---> 70\u001b[0;31m             \u001b[0msock\u001b[0m\u001b[0;34m.\u001b[0m\u001b[0mconnect\u001b[0m\u001b[0;34m(\u001b[0m\u001b[0msa\u001b[0m\u001b[0;34m)\u001b[0m\u001b[0;34m\u001b[0m\u001b[0;34m\u001b[0m\u001b[0m\n\u001b[0m\u001b[1;32m     71\u001b[0m             \u001b[0;32mreturn\u001b[0m \u001b[0msock\u001b[0m\u001b[0;34m\u001b[0m\u001b[0;34m\u001b[0m\u001b[0m\n\u001b[1;32m     72\u001b[0m \u001b[0;34m\u001b[0m\u001b[0m\n",
            "\u001b[0;31mKeyboardInterrupt\u001b[0m: "
          ]
        }
      ]
    },
    {
      "cell_type": "code",
      "metadata": {
        "id": "r58PMfUYF5CR",
        "colab_type": "code",
        "colab": {}
      },
      "source": [
        "#!rm ./imgs/*.jpg\n",
        "!rm ./groups.json"
      ],
      "execution_count": 115,
      "outputs": []
    }
  ]
}