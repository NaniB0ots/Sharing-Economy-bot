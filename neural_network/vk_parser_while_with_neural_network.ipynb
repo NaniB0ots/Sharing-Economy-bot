{
  "nbformat": 4,
  "nbformat_minor": 0,
  "metadata": {
    "colab": {
      "name": "vk_parser_while.ipynb",
      "provenance": [],
      "collapsed_sections": []
    },
    "kernelspec": {
      "name": "python3",
      "display_name": "Python 3"
    }
  },
  "cells": [
    {
      "cell_type": "markdown",
      "metadata": {
        "id": "N2QYSZWXC8In",
        "colab_type": "text"
      },
      "source": [
        "#Гугл диск\n"
      ]
    },
    {
      "cell_type": "code",
      "metadata": {
        "id": "rYhiAX7MDBSF",
        "colab_type": "code",
        "colab": {
          "base_uri": "https://localhost:8080/",
          "height": 124
        },
        "outputId": "a4d86c2c-8587-4dd6-94c2-c97869f2c380"
      },
      "source": [
        "from google.colab import drive\n",
        "drive.mount('/content/drive')"
      ],
      "execution_count": 1,
      "outputs": [
        {
          "output_type": "stream",
          "text": [
            "Go to this URL in a browser: https://accounts.google.com/o/oauth2/auth?client_id=947318989803-6bn6qk8qdgf4n4g3pfee6491hc0brc4i.apps.googleusercontent.com&redirect_uri=urn%3aietf%3awg%3aoauth%3a2.0%3aoob&response_type=code&scope=email%20https%3a%2f%2fwww.googleapis.com%2fauth%2fdocs.test%20https%3a%2f%2fwww.googleapis.com%2fauth%2fdrive%20https%3a%2f%2fwww.googleapis.com%2fauth%2fdrive.photos.readonly%20https%3a%2f%2fwww.googleapis.com%2fauth%2fpeopleapi.readonly\n",
            "\n",
            "Enter your authorization code:\n",
            "··········\n",
            "Mounted at /content/drive\n"
          ],
          "name": "stdout"
        }
      ]
    },
    {
      "cell_type": "markdown",
      "metadata": {
        "id": "6UWmNZhvB_uv",
        "colab_type": "text"
      },
      "source": [
        "#Нейросеть"
      ]
    },
    {
      "cell_type": "code",
      "metadata": {
        "id": "bKkJKhezCdCz",
        "colab_type": "code",
        "colab": {}
      },
      "source": [
        "import os, shutil\n",
        "import pandas as pd\n",
        "import numpy as np\n",
        "from tensorflow.keras.models import Sequential\n",
        "from tensorflow.keras.layers import Dense, Conv2D, MaxPooling2D, Dropout, Flatten \n",
        "from tensorflow.keras.applications import ResNet152V2\n",
        "from keras.preprocessing.image import ImageDataGenerator, load_img"
      ],
      "execution_count": 3,
      "outputs": []
    },
    {
      "cell_type": "markdown",
      "metadata": {
        "id": "Eu1wlKOUCpOy",
        "colab_type": "text"
      },
      "source": [
        "##Константы"
      ]
    },
    {
      "cell_type": "code",
      "metadata": {
        "id": "Fw-Jr7tJCm5P",
        "colab_type": "code",
        "colab": {}
      },
      "source": [
        "FAST_RUN = False\n",
        "IMAGE_WIDTH=128\n",
        "IMAGE_HEIGHT=128\n",
        "IMAGE_SIZE=(IMAGE_WIDTH, IMAGE_HEIGHT)\n",
        "IMAGE_CHANNELS=3\n",
        "input_shape = (IMAGE_WIDTH, IMAGE_HEIGHT, IMAGE_CHANNELS)\n",
        "# определим batch_size\n",
        "batch_size=15"
      ],
      "execution_count": 4,
      "outputs": []
    },
    {
      "cell_type": "markdown",
      "metadata": {
        "id": "KQXXNlEJBhRA",
        "colab_type": "text"
      },
      "source": [
        "##Загружаем предварительно обученную нейронную сеть ResNet152V2\n",
        "Создадим экземпляр модели ResNet152V2"
      ]
    },
    {
      "cell_type": "code",
      "metadata": {
        "id": "8kwsi28NBz2y",
        "colab_type": "code",
        "colab": {
          "base_uri": "https://localhost:8080/",
          "height": 72
        },
        "outputId": "4f671a33-28c3-4bbf-b62e-c725e74b1401"
      },
      "source": [
        "ResNet152V2_net = ResNet152V2(weights='imagenet', \n",
        "                  include_top=False, \n",
        "                  input_shape=input_shape)"
      ],
      "execution_count": 5,
      "outputs": [
        {
          "output_type": "stream",
          "text": [
            "Downloading data from https://storage.googleapis.com/tensorflow/keras-applications/resnet/resnet152v2_weights_tf_dim_ordering_tf_kernels_notop.h5\n",
            "234553344/234545216 [==============================] - 4s 0us/step\n"
          ],
          "name": "stdout"
        }
      ]
    },
    {
      "cell_type": "code",
      "metadata": {
        "id": "kA44Px5FB2Zq",
        "colab_type": "code",
        "colab": {}
      },
      "source": [
        "ResNet152V2_net.trainable = False"
      ],
      "execution_count": 6,
      "outputs": []
    },
    {
      "cell_type": "markdown",
      "metadata": {
        "id": "9GqeFMUaB6Wf",
        "colab_type": "text"
      },
      "source": [
        "## Классификатор"
      ]
    },
    {
      "cell_type": "code",
      "metadata": {
        "id": "D42t0NxzCEUL",
        "colab_type": "code",
        "colab": {}
      },
      "source": [
        "model = Sequential()\n",
        "# добавляем в модель сеть ResNet152V2 в качестве слоя\n",
        "model.add(ResNet152V2_net)\n",
        "model.add(Flatten())\n",
        "model.add(Dense(256, activation='relu'))\n",
        "model.add(Dense(512, activation='relu'))\n",
        "model.add(Dropout(0.5))\n",
        "model.add(Dense(9, activation='softmax'))"
      ],
      "execution_count": 7,
      "outputs": []
    },
    {
      "cell_type": "code",
      "metadata": {
        "id": "A4_mC-SRC4GL",
        "colab_type": "code",
        "colab": {
          "base_uri": "https://localhost:8080/",
          "height": 364
        },
        "outputId": "fad85d78-1f7d-4ca1-d107-31193564a0c7"
      },
      "source": [
        "model.summary()"
      ],
      "execution_count": 8,
      "outputs": [
        {
          "output_type": "stream",
          "text": [
            "Model: \"sequential\"\n",
            "_________________________________________________________________\n",
            "Layer (type)                 Output Shape              Param #   \n",
            "=================================================================\n",
            "resnet152v2 (Model)          (None, 4, 4, 2048)        58331648  \n",
            "_________________________________________________________________\n",
            "flatten (Flatten)            (None, 32768)             0         \n",
            "_________________________________________________________________\n",
            "dense (Dense)                (None, 256)               8388864   \n",
            "_________________________________________________________________\n",
            "dense_1 (Dense)              (None, 512)               131584    \n",
            "_________________________________________________________________\n",
            "dropout (Dropout)            (None, 512)               0         \n",
            "_________________________________________________________________\n",
            "dense_2 (Dense)              (None, 9)                 4617      \n",
            "=================================================================\n",
            "Total params: 66,856,713\n",
            "Trainable params: 8,525,065\n",
            "Non-trainable params: 58,331,648\n",
            "_________________________________________________________________\n"
          ],
          "name": "stdout"
        }
      ]
    },
    {
      "cell_type": "code",
      "metadata": {
        "id": "K9727-OtCIQg",
        "colab_type": "code",
        "colab": {}
      },
      "source": [
        "model.compile(loss='categorical_crossentropy', optimizer=\"rmsprop\", metrics=['accuracy'])"
      ],
      "execution_count": 9,
      "outputs": []
    },
    {
      "cell_type": "code",
      "metadata": {
        "id": "5NpXI6G7CLwQ",
        "colab_type": "code",
        "colab": {}
      },
      "source": [
        "#model.load_weights(\"/content/drive/My Drive/Sharing-Economy-neural-network/model-cnn-1.h5\")\n",
        "#model.load_weights(\"/content/drive/My Drive/Sharing-Economy-neural-network/model-cnn-S1.h5\")\n",
        "model.load_weights(\"/content/drive/My Drive/Sharing-Economy-neural-network/model-cnn-S2.h5\")\n",
        "\n"
      ],
      "execution_count": 10,
      "outputs": []
    },
    {
      "cell_type": "markdown",
      "metadata": {
        "id": "3wv9ZvfsEhD8",
        "colab_type": "text"
      },
      "source": [
        "#Классификация\n"
      ]
    },
    {
      "cell_type": "markdown",
      "metadata": {
        "id": "vk0We9PAVbeV",
        "colab_type": "text"
      },
      "source": [
        "##Распределение по категориям"
      ]
    },
    {
      "cell_type": "code",
      "metadata": {
        "id": "sbqIQdalv3OW",
        "colab_type": "code",
        "colab": {}
      },
      "source": [
        "!mkdir imgs"
      ],
      "execution_count": 11,
      "outputs": []
    },
    {
      "cell_type": "code",
      "metadata": {
        "id": "76KXA9vGVg-L",
        "colab_type": "code",
        "colab": {}
      },
      "source": [
        "def distribution_by_category():\n",
        "    test_filenames = os.listdir(\"/content/imgs/\")\n",
        "    test_df_img = pd.DataFrame({\n",
        "        'filename': test_filenames\n",
        "    })\n",
        "    nb_samples = test_df_img.shape[0]\n",
        "    test_df_img.head() \n",
        "\n",
        "\n",
        "\n",
        "    test_gen = ImageDataGenerator(rescale=1./255)\n",
        "    test_generator = test_gen.flow_from_dataframe(\n",
        "        test_df_img, \n",
        "        \"/content/imgs\", \n",
        "        x_col='filename',\n",
        "        y_col=None,\n",
        "        class_mode=None,\n",
        "        target_size=IMAGE_SIZE,\n",
        "        batch_size=batch_size,\n",
        "        shuffle=False\n",
        "    )\n",
        "\n",
        "\n",
        "    predict = model.predict(test_generator, steps=np.ceil(nb_samples/batch_size))\n",
        "\n",
        "    cat = {0:'Алкоголь', 1:'Готовые блюда', 2:'Консервы', 3:'Крупы', 4:'Молочка', 5:'Мясо рыба', 6:'Орехи фрукты овощи', 7:'Соки воды', 8:'Хлеб'}\n",
        "    predict_index = np.argmax(predict, axis=-1)\n",
        "    for index in predict_index:\n",
        "      print(cat[index])\n",
        "    return predict_index\n"
      ],
      "execution_count": 12,
      "outputs": []
    },
    {
      "cell_type": "markdown",
      "metadata": {
        "id": "EbffDyJr2I_c",
        "colab_type": "text"
      },
      "source": [
        "#vk_parser"
      ]
    },
    {
      "cell_type": "code",
      "metadata": {
        "id": "ltZLvCBE3-Cl",
        "colab_type": "code",
        "colab": {}
      },
      "source": [
        "import requests\n",
        "import json\n",
        "import time"
      ],
      "execution_count": 13,
      "outputs": []
    },
    {
      "cell_type": "code",
      "metadata": {
        "id": "XQ51-vkG4Fk4",
        "colab_type": "code",
        "colab": {}
      },
      "source": [
        "version = '5.110'\n",
        "token = '06f914db06f914db06f914db67068b6414006f906f914db58235e27d29376af1fa9f903'"
      ],
      "execution_count": 14,
      "outputs": []
    },
    {
      "cell_type": "markdown",
      "metadata": {
        "id": "IIZzLdhdnhli",
        "colab_type": "text"
      },
      "source": [
        "###img_processing"
      ]
    },
    {
      "cell_type": "code",
      "metadata": {
        "id": "z2YW14Zpnnss",
        "colab_type": "code",
        "colab": {}
      },
      "source": [
        "def vk_respons(domain,token,version,count = 1,offset = 1):\n",
        "    response = requests.get('https://api.vk.com/method/wall.get',\n",
        "                            params={\n",
        "                                'access_token': token,\n",
        "                                'v': version,\n",
        "                                'domain': domain,\n",
        "                                'count': count,\n",
        "                                'offset': offset\n",
        "                            }\n",
        "                            )\n",
        "    vk_answer = response.json()\n",
        "    return vk_answer\n",
        "\n",
        "def downlaod_img(img,path):\n",
        "    p = requests.get(img)\n",
        "    out = open(path, \"wb\")\n",
        "    out.write(p.content)\n",
        "    out.close()\n",
        "# name = 'img1.jpg'\n",
        "# path = '../imgs/'+name\n",
        "# downlaod_img('https://sun4-15.userapi.com/rT2PGPaYQETVJClKWc65dX2_Zj87hx-xsKcE9w/26XbpiTEEqU.jpg',path)\n",
        "\n",
        "def tests_preparing(groups):\n",
        "    for i in range(len(groups)):\n",
        "        domain = groups[i]\n",
        "        count = 100\n",
        "        vk_answer = vk_respons(domain,token,version,count)\n",
        "        for j in range(vk_answer['response']['items'].__len__()):\n",
        "            post_id = vk_answer['response']['items'][j]['id']\n",
        "            owner_id = vk_answer['response']['items'][j]['owner_id']\n",
        "            if 'attachments' in vk_answer['response']['items'][j].keys():\n",
        "                for n in range(vk_answer['response']['items'][i]['attachments'].__len__()):\n",
        "                    try:\n",
        "                        if 'photo' in vk_answer['response']['items'][j]['attachments'][n].keys():\n",
        "                            path = '../test_imgs/'+str(owner_id)+'_'+str(post_id)+'('+str(n)+').jpg'\n",
        "                            url = vk_answer['response']['items'][j]['attachments'][n]['photo']['sizes'][2]['url']\n",
        "                            downlaod_img(url, path)\n",
        "                    except:\n",
        "                        pass\n",
        "#groups = ['club_helpfoodspb','sharingfood','sharingfood_irk','foodsharing_minsk','food_sharing_spb']\n",
        "#tests_preparing(groups)\n",
        "\n"
      ],
      "execution_count": 21,
      "outputs": []
    },
    {
      "cell_type": "markdown",
      "metadata": {
        "id": "0Mk6MgnBnt8y",
        "colab_type": "text"
      },
      "source": [
        "###parser"
      ]
    },
    {
      "cell_type": "code",
      "metadata": {
        "id": "WukbTd9u13wl",
        "colab_type": "code",
        "colab": {
          "base_uri": "https://localhost:8080/",
          "height": 983
        },
        "outputId": "6bb2b144-5051-4500-ffd1-e2e1c700824a"
      },
      "source": [
        "# https://nanib0ots.pythonanywhere.com\n",
        "\n",
        "\n",
        "def write_json(post_id, owner_id):\n",
        "    post_id = str(post_id)\n",
        "    owner_id = str(owner_id)\n",
        "    flag = False\n",
        "    try:\n",
        "        json_d = json.load(open('groups.json'))\n",
        "    except:\n",
        "        json_d = {}\n",
        "    if owner_id in json_d.keys():\n",
        "        if json_d[owner_id] != post_id:\n",
        "            flag = True\n",
        "            json_d[owner_id] = post_id\n",
        "            with open('groups.json', 'w') as file:\n",
        "                json.dump(json_d, file, indent=2, ensure_ascii=False)\n",
        "    else:\n",
        "        json_d[owner_id] = post_id\n",
        "        flag = True\n",
        "        with open('groups.json', 'w') as file:\n",
        "            json.dump(json_d, file, indent=2, ensure_ascii=False)\n",
        "    return flag\n",
        "\n",
        "\n",
        "def vk_respons(domain, token, version, count=1, offset=1):\n",
        "    response = requests.get('https://api.vk.com/method/wall.get',\n",
        "                            params={\n",
        "                                'access_token': token,\n",
        "                                'v': version,\n",
        "                                'domain': domain,\n",
        "                                'count': count,\n",
        "                                'offset': offset\n",
        "                            }\n",
        "                            )\n",
        "    vk_answer = response.json()\n",
        "    return vk_answer\n",
        "\n",
        "\n",
        "def vk_pars_func(data):\n",
        "    for i in range(len(data)):\n",
        "        domain = data[i]['group_id']\n",
        "        cities = list(set(data[i]['city']))\n",
        "\n",
        "        vk_answer = vk_respons(domain, token, version)\n",
        "        print(vk_answer)\n",
        "        post_id = vk_answer['response']['items'][0]['id']\n",
        "        owner_id = vk_answer['response']['items'][0]['owner_id']\n",
        "        writer = write_json(post_id, owner_id)\n",
        "        if writer:\n",
        "            print('link:', 'https://vk.com/' + domain + '?w=wall' + str(owner_id) + '_' + str(post_id))\n",
        "            item = vk_answer['response']['items'][0]\n",
        "\n",
        "            text = item['text']\n",
        "            # Определение города\n",
        "            print(cities)\n",
        "            if len(cities) == 1:\n",
        "                city = [cities[0]]\n",
        "            else:\n",
        "                city = cities\n",
        "                for item_city in cities:\n",
        "                    if item_city in text:\n",
        "                       city = [item_city]\n",
        "                       break\n",
        "\n",
        "\n",
        "\n",
        "            # Определение категории\n",
        "            neural_network = False\n",
        "            if 'attachments' in item.keys():\n",
        "                attachments = item['attachments']\n",
        "                n = 0 # индекс изображени\n",
        "                for att in attachments:\n",
        "                    neural_network = True\n",
        "                    # Проверяем есть ли во вложениях фото\n",
        "                    if att['type'] == 'photo':\n",
        "                        path = './imgs/' + str(owner_id) + '_' + str(post_id) + '(' + str(n) + ').jpg'\n",
        "                        url = att['photo']['sizes'][2]['url']\n",
        "                        n += 1\n",
        "                        downlaod_img(url, path) # загрузка изображений\n",
        "            \n",
        "            # Нейросеть \n",
        "            category = [] \n",
        "            folder = './imgs/'\n",
        "            if neural_network:          \n",
        "                category_dict = {0:'Готовые блюда', 1:'Консервы', 2:'Крупы, макаронные изделия, чай и приправы', \n",
        "                      3:'Молочная продукция', 4:'Мясное, рыба', 5:'Овощи, фрукты, орехи', 6:'Реклама', \n",
        "                      7:'Соки, напитки', 8:'Хлебобулочные и кондитерские изделия'} \n",
        "                try:              \n",
        "                    predict_index = distribution_by_category()\n",
        "                    if not 6 in predict_index:\n",
        "                        for index in predict_index:\n",
        "                            category.append(category_dict[index])\n",
        "                except Exception as e: \n",
        "                    print(e) \n",
        "\n",
        "            # отчищаем папку с загрузками\n",
        "            folder = './imgs/' \n",
        "            for the_file in os.listdir(folder): \n",
        "                file_path = os.path.join(folder, the_file) \n",
        "                try: \n",
        "                    if os.path.isfile(file_path): \n",
        "                        os.unlink(file_path) \n",
        "                    elif os.path.isdir(file_path): \n",
        "                        shutil.rmtree(file_path) \n",
        "                except Exception as e: \n",
        "                    print(e) \n",
        "\n",
        "                  \n",
        "\n",
        "            #  Отправка поста боту\n",
        "            send = {'link': 'https://vk.com/' + domain + '?w=wall' + str(owner_id) + '_' + str(post_id),\n",
        "                    'category': category, 'city': city}\n",
        "            bot_send = json.dumps(send)\n",
        "            print(bot_send)\n",
        "            requests.get('https://nanib0ots.pythonanywhere.com/bot/post', send, cookies={'parser_key': '12345678'})\n",
        "            \n",
        "\n",
        "\n",
        "def main():\n",
        "    while (True):\n",
        "        try:\n",
        "            response = requests.get('https://nanib0ots.pythonanywhere.com/bot/get_data', cookies={'parser_key': '12345678'})\n",
        "            if response.status_code != 200:\n",
        "                print(response)\n",
        "                time.sleep(5)\n",
        "                main()\n",
        "            data = json.loads(response.content)\n",
        "            print('from db: ', data)\n",
        "        except requests.exceptions.ConnectionError:\n",
        "            print('ConnectionError')\n",
        "            time.sleep(40)\n",
        "            main()\n",
        "        vk_pars_func(data)\n",
        "        time.sleep(40)\n",
        "\n",
        "\n",
        "if __name__ == '__main__':\n",
        "    main()\n"
      ],
      "execution_count": 25,
      "outputs": [
        {
          "output_type": "stream",
          "text": [
            "from db:  [{'title': 'Фудшеринг I Отдам даром еду I Челябинск', 'city': ['Челябинск', 'СПБ', 'Москва', 'СПБ', 'Иркутск', 'Иркутск'], 'group_id': 'fudshering74'}, {'title': 'Хелпфуд. Фудшеринг. Санкт-Петербург', 'city': ['Челябинск', 'СПБ', 'Москва', 'СПБ', 'Иркутск', 'Иркутск'], 'group_id': 'club_helpfoodspb'}, {'title': 'Фудшеринг Отдам даром еду', 'city': ['Челябинск', 'СПБ', 'Москва', 'СПБ', 'Иркутск', 'Иркутск'], 'group_id': 'sharingfood'}, {'title': 'Фудшеринг Отдам даром в Иркутске', 'city': ['Челябинск', 'СПБ', 'Москва', 'СПБ', 'Иркутск', 'Иркутск'], 'group_id': 'sharingfood_irk'}, {'title': 'Наша группа', 'city': ['Челябинск', 'СПБ', 'Москва', 'СПБ', 'Иркутск', 'Иркутск'], 'group_id': 'NaniB0ots_food'}]\n",
            "{'response': {'count': 143, 'items': [{'id': 6839, 'from_id': -101826852, 'owner_id': -101826852, 'date': 1592411370, 'marked_as_ads': 0, 'post_type': 'post', 'text': '[id427437472|Μария]', 'attachments': [{'type': 'photo', 'photo': {'album_id': -7, 'date': 1592411370, 'id': 457240100, 'owner_id': -101826852, 'has_tags': False, 'access_key': '99309edd456770804c', 'post_id': 6839, 'sizes': [{'height': 130, 'url': 'https://sun9-33.userapi.com/dStlkLMK5lA4303bJQ_aFnh0AeqAveyNAQ7tcg/XKHuRD4Nhe4.jpg', 'type': 'm', 'width': 83}, {'height': 204, 'url': 'https://sun9-61.userapi.com/9cruktx6cILp_LNwSYMCacvj8M-JUcaTZtOizg/C9rPpgt76IM.jpg', 'type': 'o', 'width': 130}, {'height': 315, 'url': 'https://sun9-56.userapi.com/WaGvpSYam8Cm2By-j4iXmYkxJPnf1qeNGMKNTg/0xLH61Ovs5E.jpg', 'type': 'p', 'width': 200}, {'height': 504, 'url': 'https://sun9-46.userapi.com/aGB6Gwwy4Z_pRoIUfm6c3w5YKTjETWv3nTdTJQ/SlctSKgxNu0.jpg', 'type': 'q', 'width': 320}, {'height': 803, 'url': 'https://sun9-34.userapi.com/v56TCDDJfOicTPNPoLKA3a1pnaPigoMRVFw1dA/rXML-cQs8yQ.jpg', 'type': 'r', 'width': 510}, {'height': 75, 'url': 'https://sun9-2.userapi.com/HuBqbVbjhS3wHoo59qnAdCOZDCWuQot8Inac7A/hUzF9MmhMFA.jpg', 'type': 's', 'width': 48}, {'height': 604, 'url': 'https://sun9-63.userapi.com/zplIWzR55hLLaUonQCtOBppQnSvC38c31vfWfg/dRVIF8fcQgw.jpg', 'type': 'x', 'width': 384}, {'height': 807, 'url': 'https://sun9-38.userapi.com/k7Y55gjDQWnOT6uCVL68HQJ-bvGFfkSi3YzfdA/RLFhVlxHXH0.jpg', 'type': 'y', 'width': 513}, {'height': 1080, 'url': 'https://sun9-46.userapi.com/4cX27HsbeNV7C0xZU9rm0hJWYtLa8v5wm98MEw/VWItTm_Sczk.jpg', 'type': 'z', 'width': 686}], 'text': '', 'user_id': 100}}], 'post_source': {'type': 'api', 'platform': 'android'}, 'comments': {'count': 3, 'can_post': 1, 'groups_can_post': True}, 'likes': {'count': 2, 'user_likes': 0, 'can_like': 1, 'can_publish': 1}, 'reposts': {'count': 0, 'user_reposted': 0}, 'views': {'count': 537}}]}}\n",
            "link: https://vk.com/fudshering74?w=wall-101826852_6839\n",
            "['СПБ', 'Челябинск', 'Иркутск', 'Москва']\n",
            "Found 1 validated image filenames.\n",
            "Молочка\n",
            "{\"link\": \"https://vk.com/fudshering74?w=wall-101826852_6839\", \"category\": [\"\\u041c\\u044f\\u0441\\u043d\\u043e\\u0435, \\u0440\\u044b\\u0431\\u0430\"], \"city\": [\"\\u0421\\u041f\\u0411\", \"\\u0427\\u0435\\u043b\\u044f\\u0431\\u0438\\u043d\\u0441\\u043a\", \"\\u0418\\u0440\\u043a\\u0443\\u0442\\u0441\\u043a\", \"\\u041c\\u043e\\u0441\\u043a\\u0432\\u0430\"]}\n",
            "{'response': {'count': 1385, 'items': [{'id': 10343, 'from_id': 3780810, 'owner_id': -161997638, 'date': 1592602889, 'marked_as_ads': 0, 'post_type': 'post', 'text': 'Кудрово. Свежая просрочка.  нуждающимся, которые не скрываются. В личку.', 'attachments': [{'type': 'photo', 'photo': {'album_id': -8, 'date': 1592602889, 'id': 457241328, 'owner_id': -161997638, 'has_tags': False, 'access_key': '33633477763f494670', 'post_id': 10343, 'sizes': [{'height': 130, 'url': 'https://sun9-44.userapi.com/1ptpTCBGjb1ORCl_rnmV8pMtI7X8fVwNKh-zBg/7BU7VYiznuM.jpg', 'type': 'm', 'width': 97}, {'height': 173, 'url': 'https://sun9-31.userapi.com/SDO07pnnMKYefP7bqQ5v_UWq6ABSGlCOb06QbA/GMtM-F3ItG0.jpg', 'type': 'o', 'width': 130}, {'height': 267, 'url': 'https://sun9-2.userapi.com/aNbQjwwINA4q39soTMxQKpxTMtzXhr8CuqvsiQ/BNvavJkki-Q.jpg', 'type': 'p', 'width': 200}, {'height': 427, 'url': 'https://sun9-16.userapi.com/RoLFQU6xuULH0957dRnuOHvjTiMMdXYdJRNTvA/9uX05CLhkho.jpg', 'type': 'q', 'width': 320}, {'height': 680, 'url': 'https://sun9-71.userapi.com/GQekVvAnqdxsHiJDlkd82RT88u-B7TuwawQ3sg/NArsBfRDoRk.jpg', 'type': 'r', 'width': 510}, {'height': 75, 'url': 'https://sun9-16.userapi.com/20Tn0BfsUBANWLeNbWlZckIf8jSxQBmsemb2mQ/H-7wmRbTQt0.jpg', 'type': 's', 'width': 56}, {'height': 1376, 'url': 'https://sun9-35.userapi.com/zT4oaNWZmJLrKFV7pW3WgHGUk9uZnjMoDdlxoA/rTq5zOCa6TQ.jpg', 'type': 'w', 'width': 1032}, {'height': 604, 'url': 'https://sun9-33.userapi.com/rxlcyNGSUZxLmlLWgLMWCGIm0_56-o8sUJ-2TA/B6ewNnJPzQs.jpg', 'type': 'x', 'width': 453}, {'height': 807, 'url': 'https://sun9-21.userapi.com/K3yC3ZvXLayWfsBCDtpdBBr9ZAQF1t9wLVIQSA/sWI6TOXJdbQ.jpg', 'type': 'y', 'width': 605}, {'height': 1080, 'url': 'https://sun9-56.userapi.com/n0Q9qobwzf21Fx9D4Pz6zBgK78ghcAQZEMGdbg/oD2cfuVbbPY.jpg', 'type': 'z', 'width': 810}], 'text': '', 'user_id': 3780810}}], 'post_source': {'type': 'api', 'platform': 'android'}, 'comments': {'count': 0, 'can_post': 1, 'groups_can_post': True}, 'likes': {'count': 0, 'user_likes': 0, 'can_like': 1, 'can_publish': 0}, 'reposts': {'count': 0, 'user_reposted': 0}}]}}\n",
            "link: https://vk.com/club_helpfoodspb?w=wall-161997638_10343\n",
            "['СПБ', 'Челябинск', 'Иркутск', 'Москва']\n",
            "Found 1 validated image filenames.\n",
            "Хлеб\n",
            "{\"link\": \"https://vk.com/club_helpfoodspb?w=wall-161997638_10343\", \"category\": [\"\\u0425\\u043b\\u0435\\u0431\\u043e\\u0431\\u0443\\u043b\\u043e\\u0447\\u043d\\u044b\\u0435 \\u0438 \\u043a\\u043e\\u043d\\u0434\\u0438\\u0442\\u0435\\u0440\\u0441\\u043a\\u0438\\u0435 \\u0438\\u0437\\u0434\\u0435\\u043b\\u0438\\u044f\"], \"city\": [\"\\u0421\\u041f\\u0411\", \"\\u0427\\u0435\\u043b\\u044f\\u0431\\u0438\\u043d\\u0441\\u043a\", \"\\u0418\\u0440\\u043a\\u0443\\u0442\\u0441\\u043a\", \"\\u041c\\u043e\\u0441\\u043a\\u0432\\u0430\"]}\n",
            "{'response': {'count': 38946, 'items': [{'id': 520436, 'from_id': 7993495, 'owner_id': -109125816, 'date': 1592674793, 'marked_as_ads': 0, 'post_type': 'post', 'text': '#спб_фш_хлеб #пудхлеба На союза печатников 13-15, сегодня до 23:00 или в течении завтрашнего дня трех спасателей ждут три наборчика хлебушка. Подробности в личку и дубль в комментариях.', 'attachments': [{'type': 'photo', 'photo': {'album_id': -8, 'date': 1592674793, 'id': 457315163, 'owner_id': -109125816, 'has_tags': False, 'access_key': '9863e22999284963f8', 'lat': 59.923456, 'long': 30.290717, 'sizes': [{'height': 130, 'url': 'https://sun9-55.userapi.com/285ebmOrgC2Y4NwbhbsdtRrE_hZo3wa2nWkRDg/wKq1hMO0YSw.jpg', 'type': 'm', 'width': 97}, {'height': 174, 'url': 'https://sun9-24.userapi.com/pV7zbYhZUTIg4RKPZ6ROKo4INAWGloSEU0COHA/EQ6DiIyQTtQ.jpg', 'type': 'o', 'width': 130}, {'height': 267, 'url': 'https://sun9-8.userapi.com/oOwwb-gS6Kku4nyy4IPOC2L0syeG2ytEjfSb9g/VfIAn_g7cfg.jpg', 'type': 'p', 'width': 200}, {'height': 428, 'url': 'https://sun9-17.userapi.com/TVTJuN5KmnaL3Jm1zecqVDuItg0NMnczfo-bUw/GUa9pVsij6E.jpg', 'type': 'q', 'width': 320}, {'height': 682, 'url': 'https://sun9-50.userapi.com/UIEqnQMq_i7KWN3z3MfrdLcTJv7l9iOqJtMDng/SJmSnoM76pI.jpg', 'type': 'r', 'width': 510}, {'height': 75, 'url': 'https://sun9-5.userapi.com/IYp78KbdeHf3dfPPKjjVtPfeWokon3xdiVN0_g/qH-cg_z9rOY.jpg', 'type': 's', 'width': 56}, {'height': 1344, 'url': 'https://sun9-66.userapi.com/suR4hkQZPwgaG5vLhRs2JsYqnLddyogEaiefKg/6lKSjvIYOE4.jpg', 'type': 'w', 'width': 1005}, {'height': 604, 'url': 'https://sun9-18.userapi.com/VH2NchCw04mVNPgFqSRzi1qE-ujfgPVeM6IiJA/jrH0fR40r_U.jpg', 'type': 'x', 'width': 452}, {'height': 807, 'url': 'https://sun9-57.userapi.com/Y1E1WLYQC4q2-oXp9KLBCqAWOoq_nWBpl8gDRA/8L6SRkWVNC4.jpg', 'type': 'y', 'width': 604}, {'height': 1080, 'url': 'https://sun9-64.userapi.com/i0rDpIsisSkE1Q7bV4Bkq9WDmVoU5ge7v-E-Ig/Zc_MT-6qKVs.jpg', 'type': 'z', 'width': 808}], 'text': '', 'user_id': 7993495}}, {'type': 'photo', 'photo': {'album_id': -8, 'date': 1592674793, 'id': 457315164, 'owner_id': -109125816, 'has_tags': False, 'access_key': '9fd74e55993c167deb', 'lat': 59.923491, 'long': 30.290699, 'sizes': [{'height': 130, 'url': 'https://sun9-49.userapi.com/zLoGz6VT20E3Q10yNpc8Vwq1RgMqfGlMcJ4ipQ/BGqMiZz2gY0.jpg', 'type': 'm', 'width': 97}, {'height': 174, 'url': 'https://sun9-41.userapi.com/2HGfb4G2qtgQLZ2WamVUEVkz1gBx0IcfE0t29w/fetJiAiKu00.jpg', 'type': 'o', 'width': 130}, {'height': 267, 'url': 'https://sun9-30.userapi.com/d6dPeI-QOEzMrIXChRvq8giwB1xIRe5WD1wwmA/kiNo5CNH1vc.jpg', 'type': 'p', 'width': 200}, {'height': 428, 'url': 'https://sun9-5.userapi.com/jNqXRf6Re7SUTFSaPcFo__qjtQQiS0_RSCFL5g/TKvfjDhzpWI.jpg', 'type': 'q', 'width': 320}, {'height': 682, 'url': 'https://sun9-70.userapi.com/0K4Sbv0_z4ySeqvpFRTeXFFIwVWpJ_wXGhiQUg/H-zp2Yn9lfk.jpg', 'type': 'r', 'width': 510}, {'height': 75, 'url': 'https://sun9-45.userapi.com/eTTHueXqFRXPqT3vuw6cGLDFJ52pk7MUsXByRA/a5A11u-pYSA.jpg', 'type': 's', 'width': 56}, {'height': 1344, 'url': 'https://sun9-52.userapi.com/nx2W3BKekhezi1MJZM-05spo2jPV6xfbT8r4xg/l0OKqEghclU.jpg', 'type': 'w', 'width': 1005}, {'height': 604, 'url': 'https://sun9-4.userapi.com/qVqw3mOhjYR8CA83zhS0R360zqDRu3PvYvIrNw/U45-9a70kHQ.jpg', 'type': 'x', 'width': 452}, {'height': 807, 'url': 'https://sun9-66.userapi.com/ImvGw5wxq2o2HwTudn3oZmkFvcMIViPmPZxV_w/NYEVh3TSLmM.jpg', 'type': 'y', 'width': 604}, {'height': 1080, 'url': 'https://sun9-41.userapi.com/LZVf0lTtjKbl0WNejDOyu3Kd9zrhsHsMawQ7yA/BAYaLgq5GZ4.jpg', 'type': 'z', 'width': 808}], 'text': '', 'user_id': 7993495}}, {'type': 'photo', 'photo': {'album_id': -8, 'date': 1592674793, 'id': 457315165, 'owner_id': -109125816, 'has_tags': False, 'access_key': '4b15503f14dff1befb', 'lat': 59.923491, 'long': 30.290699, 'sizes': [{'height': 130, 'url': 'https://sun9-24.userapi.com/9hRNUI93F5-N0usm_L_bpmmMdiLYhuBKWdaA-A/4pPLBp3xhgE.jpg', 'type': 'm', 'width': 97}, {'height': 174, 'url': 'https://sun9-61.userapi.com/QhnxWAIuCqYfHeUBZ5lLWaiNnPqEWEGBM7Ahzw/PoIcMZCgG8E.jpg', 'type': 'o', 'width': 130}, {'height': 267, 'url': 'https://sun9-21.userapi.com/Oz19YrWa1xyEonpGwJsRlLV-TW6H1CdD3uU86A/Ednz3yOxA3Y.jpg', 'type': 'p', 'width': 200}, {'height': 428, 'url': 'https://sun9-59.userapi.com/o3qR3VP0f-JjVqkEW21Mb3lhMCUsZjx3APFUjA/_dPKidyRK4w.jpg', 'type': 'q', 'width': 320}, {'height': 682, 'url': 'https://sun9-62.userapi.com/4kCcBEKz1UA1l62nJYBjqRJrpuSUMY_UgyuqPg/tdnWhmRdUSA.jpg', 'type': 'r', 'width': 510}, {'height': 75, 'url': 'https://sun9-21.userapi.com/_d0vjbddqiMAslXuYMv3hHXrW2y74NV7GuMYMQ/h2dAx2dA1ew.jpg', 'type': 's', 'width': 56}, {'height': 1344, 'url': 'https://sun9-67.userapi.com/z5-LGjhDXluRxl_wH3_AZt2kBR06wpmBRyt9Rw/bua2qwqyjHQ.jpg', 'type': 'w', 'width': 1005}, {'height': 604, 'url': 'https://sun9-22.userapi.com/nDCcntYurFwls-FCOVEQUVdor8o5137Nwly3pw/PJURdYpe22M.jpg', 'type': 'x', 'width': 452}, {'height': 807, 'url': 'https://sun9-17.userapi.com/eoU8fZXwiaZnth4j81J5Yl54VRvtOVimpCLR_A/OWS5vRvekrQ.jpg', 'type': 'y', 'width': 604}, {'height': 1080, 'url': 'https://sun9-44.userapi.com/blZAvr7XEUOhhtdb8h6eI5jvheTtLbRFIzb8og/SyLspDOHqSA.jpg', 'type': 'z', 'width': 808}], 'text': '', 'user_id': 7993495}}], 'post_source': {'type': 'api', 'platform': 'android'}, 'comments': {'count': 0, 'can_post': 1, 'groups_can_post': True}, 'likes': {'count': 0, 'user_likes': 0, 'can_like': 1, 'can_publish': 0}, 'reposts': {'count': 0, 'user_reposted': 0}}]}}\n",
            "link: https://vk.com/sharingfood?w=wall-109125816_520436\n",
            "['СПБ', 'Челябинск', 'Иркутск', 'Москва']\n",
            "Found 3 validated image filenames.\n",
            "Хлеб\n",
            "Молочка\n",
            "Хлеб\n",
            "{\"link\": \"https://vk.com/sharingfood?w=wall-109125816_520436\", \"category\": [\"\\u0425\\u043b\\u0435\\u0431\\u043e\\u0431\\u0443\\u043b\\u043e\\u0447\\u043d\\u044b\\u0435 \\u0438 \\u043a\\u043e\\u043d\\u0434\\u0438\\u0442\\u0435\\u0440\\u0441\\u043a\\u0438\\u0435 \\u0438\\u0437\\u0434\\u0435\\u043b\\u0438\\u044f\", \"\\u041c\\u044f\\u0441\\u043d\\u043e\\u0435, \\u0440\\u044b\\u0431\\u0430\", \"\\u0425\\u043b\\u0435\\u0431\\u043e\\u0431\\u0443\\u043b\\u043e\\u0447\\u043d\\u044b\\u0435 \\u0438 \\u043a\\u043e\\u043d\\u0434\\u0438\\u0442\\u0435\\u0440\\u0441\\u043a\\u0438\\u0435 \\u0438\\u0437\\u0434\\u0435\\u043b\\u0438\\u044f\"], \"city\": [\"\\u0421\\u041f\\u0411\", \"\\u0427\\u0435\\u043b\\u044f\\u0431\\u0438\\u043d\\u0441\\u043a\", \"\\u0418\\u0440\\u043a\\u0443\\u0442\\u0441\\u043a\", \"\\u041c\\u043e\\u0441\\u043a\\u0432\\u0430\"]}\n",
            "{'response': {'count': 425, 'items': [{'id': 5107, 'from_id': -129690210, 'owner_id': -129690210, 'date': 1592397372, 'marked_as_ads': 0, 'post_type': 'post', 'text': 'Отдам мясо, срочно. В связи с отъездом', 'signer_id': 516887511, 'attachments': [{'type': 'photo', 'photo': {'album_id': -7, 'date': 1592392126, 'id': 457240124, 'owner_id': -129690210, 'has_tags': False, 'access_key': 'bd474dce72f6a297d0', 'post_id': 5106, 'sizes': [{'height': 73, 'url': 'https://sun9-4.userapi.com/c856520/v856520609/1b5ebb/TjvBHlrESPc.jpg', 'type': 'm', 'width': 130}, {'height': 87, 'url': 'https://sun9-51.userapi.com/c856520/v856520609/1b5ec0/1raviFUJhPo.jpg', 'type': 'o', 'width': 130}, {'height': 133, 'url': 'https://sun9-50.userapi.com/c856520/v856520609/1b5ec1/y4hLmTkpLDc.jpg', 'type': 'p', 'width': 200}, {'height': 213, 'url': 'https://sun9-5.userapi.com/c856520/v856520609/1b5ec2/b0SGf29U2W4.jpg', 'type': 'q', 'width': 320}, {'height': 340, 'url': 'https://sun9-22.userapi.com/c856520/v856520609/1b5ec3/WkO9ANHwDas.jpg', 'type': 'r', 'width': 510}, {'height': 42, 'url': 'https://sun9-45.userapi.com/c856520/v856520609/1b5eba/6eEpYkJBTcI.jpg', 'type': 's', 'width': 75}, {'height': 864, 'url': 'https://sun9-64.userapi.com/c856520/v856520609/1b5ebf/HSySzRWSpQg.jpg', 'type': 'w', 'width': 1536}, {'height': 340, 'url': 'https://sun9-40.userapi.com/c856520/v856520609/1b5ebc/6W0-nSliWxQ.jpg', 'type': 'x', 'width': 604}, {'height': 454, 'url': 'https://sun9-52.userapi.com/c856520/v856520609/1b5ebd/hXn1QCQ4HsQ.jpg', 'type': 'y', 'width': 807}, {'height': 720, 'url': 'https://sun9-8.userapi.com/c856520/v856520609/1b5ebe/xsQdDPWpDT4.jpg', 'type': 'z', 'width': 1280}], 'text': '', 'user_id': 100}}], 'post_source': {'type': 'api', 'platform': 'android'}, 'comments': {'count': 2, 'can_post': 1, 'groups_can_post': True}, 'likes': {'count': 6, 'user_likes': 0, 'can_like': 1, 'can_publish': 1}, 'reposts': {'count': 0, 'user_reposted': 0}, 'views': {'count': 627}}]}}\n",
            "link: https://vk.com/sharingfood_irk?w=wall-129690210_5107\n",
            "['СПБ', 'Челябинск', 'Иркутск', 'Москва']\n",
            "Found 1 validated image filenames.\n",
            "Молочка\n",
            "{\"link\": \"https://vk.com/sharingfood_irk?w=wall-129690210_5107\", \"category\": [\"\\u041c\\u044f\\u0441\\u043d\\u043e\\u0435, \\u0440\\u044b\\u0431\\u0430\"], \"city\": [\"\\u0421\\u041f\\u0411\", \"\\u0427\\u0435\\u043b\\u044f\\u0431\\u0438\\u043d\\u0441\\u043a\", \"\\u0418\\u0440\\u043a\\u0443\\u0442\\u0441\\u043a\", \"\\u041c\\u043e\\u0441\\u043a\\u0432\\u0430\"]}\n",
            "{'response': {'count': 7, 'items': [{'id': 7, 'from_id': 132677094, 'owner_id': -196457123, 'date': 1592647211, 'marked_as_ads': 0, 'post_type': 'post', 'text': 'тест множества картинок', 'attachments': [{'type': 'photo', 'photo': {'album_id': -8, 'date': 1592647211, 'id': 457239023, 'owner_id': -196457123, 'has_tags': False, 'access_key': '723265326cab39da50', 'sizes': [{'height': 87, 'url': 'https://sun9-11.userapi.com/OcU-0tlSghoDhAxpYJwEI-6Wc_66NU_1I55O4w/6elZTTyvpno.jpg', 'type': 'm', 'width': 130}, {'height': 87, 'url': 'https://sun9-11.userapi.com/OcU-0tlSghoDhAxpYJwEI-6Wc_66NU_1I55O4w/6elZTTyvpno.jpg', 'type': 'o', 'width': 130}, {'height': 133, 'url': 'https://sun9-58.userapi.com/8pYalvfuwhHMZsqE8Q_cCFEhReEyV6c0tzKrhg/aIqzloUEHsw.jpg', 'type': 'p', 'width': 200}, {'height': 213, 'url': 'https://sun9-65.userapi.com/OVqAO5PNiYAxv332Ev0QRnmW14VMcEr-PUqqeQ/lb2EuOGBXso.jpg', 'type': 'q', 'width': 320}, {'height': 340, 'url': 'https://sun9-42.userapi.com/XAfrcerWF75JxWjvbbgYTMXJDP1zzGL2i7-uyQ/VV1sC20hqAk.jpg', 'type': 'r', 'width': 510}, {'height': 50, 'url': 'https://sun9-34.userapi.com/SlwEBaIFKN2xgQrGdwNW_YL0XWMeRXFRIQcH5A/UauYRFl5cDM.jpg', 'type': 's', 'width': 75}, {'height': 1707, 'url': 'https://sun9-62.userapi.com/DRGGpainACIrfMqlh-MFlCEog_XllVr0Lv3sBw/0sbK5bogYc8.jpg', 'type': 'w', 'width': 2560}, {'height': 403, 'url': 'https://sun9-45.userapi.com/djIsK28lmJGoOIs1eAXWZx8WPT5LlJtdz5Gjmw/xeIL6e1I228.jpg', 'type': 'x', 'width': 604}, {'height': 538, 'url': 'https://sun9-17.userapi.com/KzbK-szXglNOp-MMc_N4Lf63jKq1y5X_4Jn_wQ/rJLpbMeZgAs.jpg', 'type': 'y', 'width': 807}, {'height': 853, 'url': 'https://sun9-35.userapi.com/WYGLCtP8tQQxEw4wWvtZQVtdiOXxG7v4RFxWYg/-b9oC-Vk-6A.jpg', 'type': 'z', 'width': 1280}], 'text': '', 'user_id': 100}}, {'type': 'photo', 'photo': {'album_id': -8, 'date': 1592647211, 'id': 457239024, 'owner_id': -196457123, 'has_tags': False, 'access_key': 'd905354bd622ac5f5b', 'sizes': [{'height': 130, 'url': 'https://sun9-3.userapi.com/ENR1SlSobO24t2TemDyxVCwOhzdt2cw8utEOdQ/6WkPpzFRsa4.jpg', 'type': 'm', 'width': 130}, {'height': 130, 'url': 'https://sun9-3.userapi.com/ENR1SlSobO24t2TemDyxVCwOhzdt2cw8utEOdQ/6WkPpzFRsa4.jpg', 'type': 'o', 'width': 130}, {'height': 201, 'url': 'https://sun9-58.userapi.com/HTZXJzWUHuXbcCqf8x23JUgkopZNJpxQ-m-Pzw/OI2JwsJb3Lc.jpg', 'type': 'p', 'width': 200}, {'height': 321, 'url': 'https://sun9-20.userapi.com/nAuk91ZLqZRfohazW-P0oPo6XS3yqmXW09seqA/rwYociCI8iQ.jpg', 'type': 'q', 'width': 320}, {'height': 376, 'url': 'https://sun9-8.userapi.com/GjNWguBt8H7p9Qk6q8ydEfc2YvLdGci_SASNpQ/xhX6cev1F_U.jpg', 'type': 'r', 'width': 375}, {'height': 75, 'url': 'https://sun9-27.userapi.com/Zph3v0Xy_mMzLAQavhfjzIkijr82-FeU3Akvkw/2t6oufDYp54.jpg', 'type': 's', 'width': 75}, {'height': 376, 'url': 'https://sun9-41.userapi.com/UsBDcX7GyJSFwTakINfN4pPrNXcwwAemPZQLQg/qzMMdTb-zQQ.jpg', 'type': 'x', 'width': 375}], 'text': '', 'user_id': 100}}, {'type': 'photo', 'photo': {'album_id': -8, 'date': 1592647211, 'id': 457239025, 'owner_id': -196457123, 'has_tags': False, 'access_key': '0fcb0cde84068e7db5', 'sizes': [{'height': 97, 'url': 'https://sun9-40.userapi.com/F3cVvtGaEN5C7Dx5KpmWfyjckbVdIoIgNQWZgg/4raXm4q-ULk.jpg', 'type': 'm', 'width': 130}, {'height': 98, 'url': 'https://sun9-58.userapi.com/AI_S7dSPVZxQRCL4ul_99KhK8rSTo35nAJdEPQ/DvTjtNF4xYo.jpg', 'type': 'o', 'width': 130}, {'height': 150, 'url': 'https://sun9-58.userapi.com/vCpgQZhD0v2wS0lNQzcsPKvGsmKwO4v82yKPZw/OqWl2UeRYgo.jpg', 'type': 'p', 'width': 200}, {'height': 240, 'url': 'https://sun9-70.userapi.com/JTIST49dbSzAY7ST0odjASac7Dw2YpL000sK3w/6RXJxQq34Iw.jpg', 'type': 'q', 'width': 320}, {'height': 383, 'url': 'https://sun9-70.userapi.com/C_vpYNcTAQysRe296IBMrgieQL2J9C7pJKQWDA/gYLbXtO_3ss.jpg', 'type': 'r', 'width': 510}, {'height': 56, 'url': 'https://sun9-72.userapi.com/MkFZD9eVRS1UGoEqoPPOvFPLLByyuyJuBc8W4A/qlFUu9QCwps.jpg', 'type': 's', 'width': 75}, {'height': 453, 'url': 'https://sun9-10.userapi.com/HOkGCHfz_6hHPwaQF5mGPXKmdM3WunpFfDa3yg/gcjwcxYwV1E.jpg', 'type': 'x', 'width': 604}, {'height': 605, 'url': 'https://sun9-14.userapi.com/ADtJsk-qeop0i9fP4t1jNm-w7Q68O1TG04jvkw/TtZ2VFJypqc.jpg', 'type': 'y', 'width': 807}, {'height': 900, 'url': 'https://sun9-8.userapi.com/_ZStDWD857ZcGyiz6jFfpU-In8AvE63o07Uq-A/pG2uxCl7tQQ.jpg', 'type': 'z', 'width': 1200}], 'text': '', 'user_id': 100}}, {'type': 'photo', 'photo': {'album_id': -8, 'date': 1592647211, 'id': 457239026, 'owner_id': -196457123, 'has_tags': False, 'access_key': '73545f32a645a12d95', 'sizes': [{'height': 130, 'url': 'https://sun9-57.userapi.com/YESY2HZBIGnbxgWOyeGpjDSC5kR1yzu-yEHT0Q/DxwtOWdWGfI.jpg', 'type': 'm', 'width': 107}, {'height': 158, 'url': 'https://sun9-38.userapi.com/qAkyH2kutTlMcdroX4LUNuX31ILa6KQT7ABHRA/8MzsCesih9k.jpg', 'type': 'o', 'width': 130}, {'height': 243, 'url': 'https://sun9-20.userapi.com/4Rs4TqxiHHqWuzqHBThCL7Aj7WYXpV4kDjq7aA/iiQm72f0_Ow.jpg', 'type': 'p', 'width': 200}, {'height': 389, 'url': 'https://sun9-15.userapi.com/c8GveEM5twpaqdfSm7aZYlXzxVE_YbUavu1BbA/vUuFwoybn_8.jpg', 'type': 'q', 'width': 320}, {'height': 619, 'url': 'https://sun9-57.userapi.com/Gf572obsmDLoPnK8XEud2lmEyltriboLfllD9g/tyGbjvcSCNU.jpg', 'type': 'r', 'width': 510}, {'height': 75, 'url': 'https://sun9-62.userapi.com/SozaJ6vF-jd-yoWyYEZq9i-BdYZKH0c74sO5UA/RK_lreKHT0g.jpg', 'type': 's', 'width': 62}, {'height': 604, 'url': 'https://sun9-21.userapi.com/6-nEDc4BG21JFg5Q7vnAe2a-4abVkhX6CboSXw/B3FcSq31cDg.jpg', 'type': 'x', 'width': 498}, {'height': 807, 'url': 'https://sun9-67.userapi.com/GwStrbQcFAzxDFOOR2S3g4n5ZmYQMNDTJa69uA/XoMCfxTvhns.jpg', 'type': 'y', 'width': 665}, {'height': 850, 'url': 'https://sun9-68.userapi.com/rPCtKwn-_Xau-LylEqlaS-CDz9C6IS6fnOe0jg/MhxyO2c7xRA.jpg', 'type': 'z', 'width': 700}], 'text': '', 'user_id': 100}}, {'type': 'photo', 'photo': {'album_id': -8, 'date': 1592647211, 'id': 457239027, 'owner_id': -196457123, 'has_tags': False, 'access_key': '25e40484ab9a40962a', 'sizes': [{'height': 97, 'url': 'https://sun9-41.userapi.com/BGkETkBeTeNQlTyJl3MnaBlbJm-wnYWyoOl95A/6AXmITuOAaQ.jpg', 'type': 'm', 'width': 130}, {'height': 98, 'url': 'https://sun9-47.userapi.com/U8SKL-dxjupljahJeAWIYhpiq7LXZ5s99GioBA/MSi8VPRYeNA.jpg', 'type': 'o', 'width': 130}, {'height': 150, 'url': 'https://sun9-72.userapi.com/xa4P51tK2X7UPHYitjLEjZB93n2q3JZ5Rjkx0Q/NuBmrjhEKBM.jpg', 'type': 'p', 'width': 200}, {'height': 240, 'url': 'https://sun9-23.userapi.com/UBb1zmAo_y4Od2YtqCnFCC4bUSKFx9713gNvnQ/ADbzozxVwsA.jpg', 'type': 'q', 'width': 320}, {'height': 382, 'url': 'https://sun9-30.userapi.com/Do8IvQ_WjGYv6xMZ3oHJtlDLtxq5X5N5btAZOA/S9nB3FpVp-Y.jpg', 'type': 'r', 'width': 510}, {'height': 56, 'url': 'https://sun9-45.userapi.com/DvEWkz3YG76ZeaZzCZ8LQ819Ubo9PaRMSNDpdg/ZjXqif1Gi78.jpg', 'type': 's', 'width': 75}, {'height': 453, 'url': 'https://sun9-61.userapi.com/82y4Gwbd7T0DSTSOYzX8Rr3e7sDPfcB8qeJkIw/5CY789iLa-w.jpg', 'type': 'x', 'width': 604}, {'height': 605, 'url': 'https://sun9-23.userapi.com/mGxq1T2UqcC2NYmTnnbAp2Ivv2ogqgV6WMM07Q/qBy0l0ZEiZA.jpg', 'type': 'y', 'width': 807}, {'height': 899, 'url': 'https://sun9-18.userapi.com/45aZvlcimXXdRqKzZ9bIn9dAms7oppCjlhvwfw/18QwW8NCcFk.jpg', 'type': 'z', 'width': 1200}], 'text': '', 'user_id': 100}}], 'post_source': {'type': 'vk'}, 'comments': {'count': 0, 'can_post': 1, 'groups_can_post': True}, 'likes': {'count': 0, 'user_likes': 0, 'can_like': 1, 'can_publish': 0}, 'reposts': {'count': 0, 'user_reposted': 0}}]}}\n",
            "link: https://vk.com/NaniB0ots_food?w=wall-196457123_7\n",
            "['СПБ', 'Челябинск', 'Иркутск', 'Москва']\n",
            "Found 5 validated image filenames.\n",
            "Соки воды\n",
            "Хлеб\n",
            "Мясо рыба\n",
            "Мясо рыба\n",
            "Готовые блюда\n",
            "{\"link\": \"https://vk.com/NaniB0ots_food?w=wall-196457123_7\", \"category\": [\"\\u0421\\u043e\\u043a\\u0438, \\u043d\\u0430\\u043f\\u0438\\u0442\\u043a\\u0438\", \"\\u0425\\u043b\\u0435\\u0431\\u043e\\u0431\\u0443\\u043b\\u043e\\u0447\\u043d\\u044b\\u0435 \\u0438 \\u043a\\u043e\\u043d\\u0434\\u0438\\u0442\\u0435\\u0440\\u0441\\u043a\\u0438\\u0435 \\u0438\\u0437\\u0434\\u0435\\u043b\\u0438\\u044f\", \"\\u041e\\u0432\\u043e\\u0449\\u0438, \\u0444\\u0440\\u0443\\u043a\\u0442\\u044b, \\u043e\\u0440\\u0435\\u0445\\u0438\", \"\\u041e\\u0432\\u043e\\u0449\\u0438, \\u0444\\u0440\\u0443\\u043a\\u0442\\u044b, \\u043e\\u0440\\u0435\\u0445\\u0438\", \"\\u041a\\u043e\\u043d\\u0441\\u0435\\u0440\\u0432\\u044b\"], \"city\": [\"\\u0421\\u041f\\u0411\", \"\\u0427\\u0435\\u043b\\u044f\\u0431\\u0438\\u043d\\u0441\\u043a\", \"\\u0418\\u0440\\u043a\\u0443\\u0442\\u0441\\u043a\", \"\\u041c\\u043e\\u0441\\u043a\\u0432\\u0430\"]}\n"
          ],
          "name": "stdout"
        },
        {
          "output_type": "error",
          "ename": "KeyboardInterrupt",
          "evalue": "ignored",
          "traceback": [
            "\u001b[0;31m---------------------------------------------------------------------------\u001b[0m",
            "\u001b[0;31mKeyboardInterrupt\u001b[0m                         Traceback (most recent call last)",
            "\u001b[0;32m<ipython-input-25-291778d1d85e>\u001b[0m in \u001b[0;36m<module>\u001b[0;34m()\u001b[0m\n\u001b[1;32m    137\u001b[0m \u001b[0;34m\u001b[0m\u001b[0m\n\u001b[1;32m    138\u001b[0m \u001b[0;32mif\u001b[0m \u001b[0m__name__\u001b[0m \u001b[0;34m==\u001b[0m \u001b[0;34m'__main__'\u001b[0m\u001b[0;34m:\u001b[0m\u001b[0;34m\u001b[0m\u001b[0;34m\u001b[0m\u001b[0m\n\u001b[0;32m--> 139\u001b[0;31m     \u001b[0mmain\u001b[0m\u001b[0;34m(\u001b[0m\u001b[0;34m)\u001b[0m\u001b[0;34m\u001b[0m\u001b[0;34m\u001b[0m\u001b[0m\n\u001b[0m",
            "\u001b[0;32m<ipython-input-25-291778d1d85e>\u001b[0m in \u001b[0;36mmain\u001b[0;34m()\u001b[0m\n\u001b[1;32m    133\u001b[0m             \u001b[0mmain\u001b[0m\u001b[0;34m(\u001b[0m\u001b[0;34m)\u001b[0m\u001b[0;34m\u001b[0m\u001b[0;34m\u001b[0m\u001b[0m\n\u001b[1;32m    134\u001b[0m         \u001b[0mvk_pars_func\u001b[0m\u001b[0;34m(\u001b[0m\u001b[0mdata\u001b[0m\u001b[0;34m)\u001b[0m\u001b[0;34m\u001b[0m\u001b[0;34m\u001b[0m\u001b[0m\n\u001b[0;32m--> 135\u001b[0;31m         \u001b[0mtime\u001b[0m\u001b[0;34m.\u001b[0m\u001b[0msleep\u001b[0m\u001b[0;34m(\u001b[0m\u001b[0;36m40\u001b[0m\u001b[0;34m)\u001b[0m\u001b[0;34m\u001b[0m\u001b[0;34m\u001b[0m\u001b[0m\n\u001b[0m\u001b[1;32m    136\u001b[0m \u001b[0;34m\u001b[0m\u001b[0m\n\u001b[1;32m    137\u001b[0m \u001b[0;34m\u001b[0m\u001b[0m\n",
            "\u001b[0;31mKeyboardInterrupt\u001b[0m: "
          ]
        }
      ]
    },
    {
      "cell_type": "code",
      "metadata": {
        "id": "r58PMfUYF5CR",
        "colab_type": "code",
        "colab": {}
      },
      "source": [
        "#!rm ./imgs/*.jpg\n",
        "!rm ./groups.json"
      ],
      "execution_count": 115,
      "outputs": []
    }
  ]
}