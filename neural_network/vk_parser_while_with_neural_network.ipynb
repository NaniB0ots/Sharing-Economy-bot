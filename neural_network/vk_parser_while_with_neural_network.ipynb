{
  "nbformat": 4,
  "nbformat_minor": 0,
  "metadata": {
    "colab": {
      "name": "vk_parser_while.ipynb",
      "provenance": [],
      "collapsed_sections": [],
      "toc_visible": true
    },
    "kernelspec": {
      "name": "python3",
      "display_name": "Python 3"
    }
  },
  "cells": [
    {
      "cell_type": "markdown",
      "metadata": {
        "id": "N2QYSZWXC8In",
        "colab_type": "text"
      },
      "source": [
        "#Гугл диск\n"
      ]
    },
    {
      "cell_type": "code",
      "metadata": {
        "id": "rYhiAX7MDBSF",
        "colab_type": "code",
        "colab": {}
      },
      "source": [
        "#from google.colab import drive\n",
        "#drive.mount('/content/drive')"
      ],
      "execution_count": 50,
      "outputs": []
    },
    {
      "cell_type": "markdown",
      "metadata": {
        "id": "6UWmNZhvB_uv",
        "colab_type": "text"
      },
      "source": [
        "#Нейросеть"
      ]
    },
    {
      "cell_type": "code",
      "metadata": {
        "id": "bKkJKhezCdCz",
        "colab_type": "code",
        "colab": {}
      },
      "source": [
        "import os, shutil\n",
        "import pandas as pd\n",
        "import numpy as np\n",
        "from tensorflow.keras.models import Sequential\n",
        "from tensorflow.keras.layers import Dense, Conv2D, MaxPooling2D, Dropout, Flatten \n",
        "from tensorflow.keras.applications import ResNet152V2\n",
        "from keras.preprocessing.image import ImageDataGenerator, load_img"
      ],
      "execution_count": 51,
      "outputs": []
    },
    {
      "cell_type": "markdown",
      "metadata": {
        "id": "Eu1wlKOUCpOy",
        "colab_type": "text"
      },
      "source": [
        "##Константы"
      ]
    },
    {
      "cell_type": "code",
      "metadata": {
        "id": "Fw-Jr7tJCm5P",
        "colab_type": "code",
        "colab": {}
      },
      "source": [
        "FAST_RUN = False\n",
        "IMAGE_WIDTH=128\n",
        "IMAGE_HEIGHT=128\n",
        "IMAGE_SIZE=(IMAGE_WIDTH, IMAGE_HEIGHT)\n",
        "IMAGE_CHANNELS=3\n",
        "input_shape = (IMAGE_WIDTH, IMAGE_HEIGHT, IMAGE_CHANNELS)\n",
        "# определим batch_size\n",
        "batch_size=15"
      ],
      "execution_count": 52,
      "outputs": []
    },
    {
      "cell_type": "markdown",
      "metadata": {
        "id": "KQXXNlEJBhRA",
        "colab_type": "text"
      },
      "source": [
        "##Загружаем предварительно обученную нейронную сеть ResNet152V2\n",
        "Создадим экземпляр модели ResNet152V2"
      ]
    },
    {
      "cell_type": "code",
      "metadata": {
        "id": "8kwsi28NBz2y",
        "colab_type": "code",
        "colab": {}
      },
      "source": [
        "ResNet152V2_net = ResNet152V2(weights='imagenet', \n",
        "                  include_top=False, \n",
        "                  input_shape=input_shape)"
      ],
      "execution_count": 53,
      "outputs": []
    },
    {
      "cell_type": "code",
      "metadata": {
        "id": "kA44Px5FB2Zq",
        "colab_type": "code",
        "colab": {}
      },
      "source": [
        "ResNet152V2_net.trainable = False"
      ],
      "execution_count": 54,
      "outputs": []
    },
    {
      "cell_type": "markdown",
      "metadata": {
        "id": "9GqeFMUaB6Wf",
        "colab_type": "text"
      },
      "source": [
        "## Классификатор"
      ]
    },
    {
      "cell_type": "code",
      "metadata": {
        "id": "D42t0NxzCEUL",
        "colab_type": "code",
        "colab": {}
      },
      "source": [
        "model = Sequential()\n",
        "# добавляем в модель сеть ResNet152V2 в качестве слоя\n",
        "model.add(ResNet152V2_net)\n",
        "model.add(Flatten())\n",
        "model.add(Dense(256, activation='relu'))\n",
        "model.add(Dense(512, activation='relu'))\n",
        "model.add(Dropout(0.5))\n",
        "model.add(Dense(9, activation='softmax'))"
      ],
      "execution_count": 55,
      "outputs": []
    },
    {
      "cell_type": "code",
      "metadata": {
        "id": "A4_mC-SRC4GL",
        "colab_type": "code",
        "colab": {
          "base_uri": "https://localhost:8080/",
          "height": 364
        },
        "outputId": "fb6dc56c-be6f-4336-ad28-caa43177081b"
      },
      "source": [
        "model.summary()"
      ],
      "execution_count": 56,
      "outputs": [
        {
          "output_type": "stream",
          "text": [
            "Model: \"sequential_2\"\n",
            "_________________________________________________________________\n",
            "Layer (type)                 Output Shape              Param #   \n",
            "=================================================================\n",
            "resnet152v2 (Model)          (None, 4, 4, 2048)        58331648  \n",
            "_________________________________________________________________\n",
            "flatten_2 (Flatten)          (None, 32768)             0         \n",
            "_________________________________________________________________\n",
            "dense_6 (Dense)              (None, 256)               8388864   \n",
            "_________________________________________________________________\n",
            "dense_7 (Dense)              (None, 512)               131584    \n",
            "_________________________________________________________________\n",
            "dropout_2 (Dropout)          (None, 512)               0         \n",
            "_________________________________________________________________\n",
            "dense_8 (Dense)              (None, 9)                 4617      \n",
            "=================================================================\n",
            "Total params: 66,856,713\n",
            "Trainable params: 8,525,065\n",
            "Non-trainable params: 58,331,648\n",
            "_________________________________________________________________\n"
          ],
          "name": "stdout"
        }
      ]
    },
    {
      "cell_type": "code",
      "metadata": {
        "id": "K9727-OtCIQg",
        "colab_type": "code",
        "colab": {}
      },
      "source": [
        "model.compile(loss='categorical_crossentropy', optimizer=\"rmsprop\", metrics=['accuracy'])"
      ],
      "execution_count": 57,
      "outputs": []
    },
    {
      "cell_type": "markdown",
      "metadata": {
        "id": "Rb9LJjLMUREf",
        "colab_type": "text"
      },
      "source": [
        "##Веса модели\n"
      ]
    },
    {
      "cell_type": "code",
      "metadata": {
        "id": "5NpXI6G7CLwQ",
        "colab_type": "code",
        "colab": {}
      },
      "source": [
        "# Веса модели\n",
        "# Файл model-cnn-S2.h5\n",
        "# Укажите путь к файлу\n",
        "model.load_weights(\"/content/drive/My Drive/Sharing-Economy-neural-network/model-cnn-S2.h5\") \n",
        "#model.load_weights(\"/content/model-cnn-S2.h5\") \n",
        "\n"
      ],
      "execution_count": 58,
      "outputs": []
    },
    {
      "cell_type": "markdown",
      "metadata": {
        "id": "3wv9ZvfsEhD8",
        "colab_type": "text"
      },
      "source": [
        "#Классификация\n"
      ]
    },
    {
      "cell_type": "markdown",
      "metadata": {
        "id": "vk0We9PAVbeV",
        "colab_type": "text"
      },
      "source": [
        "##Распределение по категориям"
      ]
    },
    {
      "cell_type": "code",
      "metadata": {
        "id": "sbqIQdalv3OW",
        "colab_type": "code",
        "colab": {
          "base_uri": "https://localhost:8080/",
          "height": 35
        },
        "outputId": "361e0b7a-ba59-4dae-b15c-5b7b3d03e938"
      },
      "source": [
        "!mkdir imgs"
      ],
      "execution_count": 59,
      "outputs": [
        {
          "output_type": "stream",
          "text": [
            "mkdir: cannot create directory ‘imgs’: File exists\n"
          ],
          "name": "stdout"
        }
      ]
    },
    {
      "cell_type": "code",
      "metadata": {
        "id": "76KXA9vGVg-L",
        "colab_type": "code",
        "colab": {}
      },
      "source": [
        "def distribution_by_category():\n",
        "    test_filenames = os.listdir(\"/content/imgs/\")\n",
        "    test_df_img = pd.DataFrame({\n",
        "        'filename': test_filenames\n",
        "    })\n",
        "    nb_samples = test_df_img.shape[0]\n",
        "    test_df_img.head() \n",
        "\n",
        "\n",
        "\n",
        "    test_gen = ImageDataGenerator(rescale=1./255)\n",
        "    test_generator = test_gen.flow_from_dataframe(\n",
        "        test_df_img, \n",
        "        \"/content/imgs\", \n",
        "        x_col='filename',\n",
        "        y_col=None,\n",
        "        class_mode=None,\n",
        "        target_size=IMAGE_SIZE,\n",
        "        batch_size=batch_size,\n",
        "        shuffle=False\n",
        "    )\n",
        "\n",
        "\n",
        "    predict = model.predict(test_generator, steps=np.ceil(nb_samples/batch_size))\n",
        "\n",
        "    category_dict = {0:'Готовые блюда', 1:'Консервы', 2:'Крупы, макаронные изделия, чай и приправы', \n",
        "                      3:'Молочная продукция', 4:'Мясное, рыба', 5:'Овощи, фрукты, орехи', 6:'Реклама', \n",
        "                      7:'Соки, напитки', 8:'Хлебобулочные и кондитерские изделия'}     \n",
        "    predict_index = np.argmax(predict, axis=-1)\n",
        "    for index in predict_index:\n",
        "      print('Нейросеть Категория:', category_dict[index])\n",
        "    return predict_index\n"
      ],
      "execution_count": 60,
      "outputs": []
    },
    {
      "cell_type": "markdown",
      "metadata": {
        "id": "EbffDyJr2I_c",
        "colab_type": "text"
      },
      "source": [
        "#vk_parser"
      ]
    },
    {
      "cell_type": "code",
      "metadata": {
        "id": "ltZLvCBE3-Cl",
        "colab_type": "code",
        "colab": {}
      },
      "source": [
        "import requests\n",
        "import json\n",
        "import time"
      ],
      "execution_count": 61,
      "outputs": []
    },
    {
      "cell_type": "code",
      "metadata": {
        "id": "XQ51-vkG4Fk4",
        "colab_type": "code",
        "colab": {}
      },
      "source": [
        "version = '5.110'\n",
        "token = '06f914db06f914db06f914db67068b6414006f906f914db58235e27d29376af1fa9f903'"
      ],
      "execution_count": 62,
      "outputs": []
    },
    {
      "cell_type": "markdown",
      "metadata": {
        "id": "IIZzLdhdnhli",
        "colab_type": "text"
      },
      "source": [
        "###img_processing"
      ]
    },
    {
      "cell_type": "code",
      "metadata": {
        "id": "z2YW14Zpnnss",
        "colab_type": "code",
        "colab": {}
      },
      "source": [
        "def vk_respons(domain,token,version,count = 1,offset = 1):\n",
        "    response = requests.get('https://api.vk.com/method/wall.get',\n",
        "                            params={\n",
        "                                'access_token': token,\n",
        "                                'v': version,\n",
        "                                'domain': domain,\n",
        "                                'count': count,\n",
        "                                'offset': offset\n",
        "                            }\n",
        "                            )\n",
        "    vk_answer = response.json()\n",
        "    return vk_answer\n",
        "\n",
        "def downlaod_img(img,path):\n",
        "    p = requests.get(img)\n",
        "    out = open(path, \"wb\")\n",
        "    out.write(p.content)\n",
        "    out.close()\n",
        "\n",
        "\n",
        "def tests_preparing(groups):\n",
        "    for i in range(len(groups)):\n",
        "        domain = groups[i]\n",
        "        count = 100\n",
        "        vk_answer = vk_respons(domain,token,version,count)\n",
        "        for j in range(vk_answer['response']['items'].__len__()):\n",
        "            post_id = vk_answer['response']['items'][j]['id']\n",
        "            owner_id = vk_answer['response']['items'][j]['owner_id']\n",
        "            if 'attachments' in vk_answer['response']['items'][j].keys():\n",
        "                for n in range(vk_answer['response']['items'][i]['attachments'].__len__()):\n",
        "                    try:\n",
        "                        if 'photo' in vk_answer['response']['items'][j]['attachments'][n].keys():\n",
        "                            path = '../test_imgs/'+str(owner_id)+'_'+str(post_id)+'('+str(n)+').jpg'\n",
        "                            url = vk_answer['response']['items'][j]['attachments'][n]['photo']['sizes'][2]['url']\n",
        "                            downlaod_img(url, path)\n",
        "                    except:\n",
        "                        pass\n",
        "\n",
        "\n"
      ],
      "execution_count": 63,
      "outputs": []
    },
    {
      "cell_type": "markdown",
      "metadata": {
        "id": "0Mk6MgnBnt8y",
        "colab_type": "text"
      },
      "source": [
        "###parser"
      ]
    },
    {
      "cell_type": "code",
      "metadata": {
        "id": "WukbTd9u13wl",
        "colab_type": "code",
        "colab": {
          "base_uri": "https://localhost:8080/",
          "height": 1000
        },
        "outputId": "264915f7-9916-45ac-cf80-2ffb53fa9dd2"
      },
      "source": [
        "# https://nanib0ots.pythonanywhere.com\n",
        "\n",
        "\n",
        "def write_json(post_id, owner_id):\n",
        "    post_id = str(post_id)\n",
        "    owner_id = str(owner_id)\n",
        "    flag = False\n",
        "    try:\n",
        "        json_d = json.load(open('groups.json'))\n",
        "    except:\n",
        "        json_d = {}\n",
        "    if owner_id in json_d.keys():\n",
        "        if json_d[owner_id] != post_id:\n",
        "            flag = True\n",
        "            json_d[owner_id] = post_id\n",
        "            with open('groups.json', 'w') as file:\n",
        "                json.dump(json_d, file, indent=2, ensure_ascii=False)\n",
        "    else:\n",
        "        json_d[owner_id] = post_id\n",
        "        flag = True\n",
        "        with open('groups.json', 'w') as file:\n",
        "            json.dump(json_d, file, indent=2, ensure_ascii=False)\n",
        "    return flag\n",
        "\n",
        "\n",
        "def vk_respons(domain, token, version, count=1, offset=1):\n",
        "    response = requests.get('https://api.vk.com/method/wall.get',\n",
        "                            params={\n",
        "                                'access_token': token,\n",
        "                                'v': version,\n",
        "                                'domain': domain,\n",
        "                                'count': count,\n",
        "                                'offset': offset\n",
        "                            }\n",
        "                            )\n",
        "    vk_answer = response.json()\n",
        "    return vk_answer\n",
        "\n",
        "\n",
        "def vk_pars_func(data):\n",
        "    for i in range(len(data)):\n",
        "        domain = data[i]['group_id']\n",
        "        cities = list(set(data[i]['city']))\n",
        "\n",
        "        vk_answer = vk_respons(domain, token, version)\n",
        "        post_id = vk_answer['response']['items'][0]['id']\n",
        "        owner_id = vk_answer['response']['items'][0]['owner_id']\n",
        "        writer = write_json(post_id, owner_id)\n",
        "        if writer:\n",
        "            print('Пост Вк:',\n",
        "                  'link:', 'https://vk.com/' + domain + '?w=wall' + str(owner_id) + '_' + str(post_id), '\\n')\n",
        "            item = vk_answer['response']['items'][0]\n",
        "\n",
        "            text = item['text']\n",
        "\n",
        "\n",
        "            # Определение города\n",
        "            if len(cities) == 1:\n",
        "                city = [cities[0]]\n",
        "            else:\n",
        "                city = cities\n",
        "                for item_city in cities:\n",
        "                    if item_city.lower() in text.lower():\n",
        "                       city = [item_city]\n",
        "                       break\n",
        "\n",
        "\n",
        "\n",
        "            # Определение категории\n",
        "            neural_network = False\n",
        "            if 'attachments' in item.keys():\n",
        "                attachments = item['attachments']\n",
        "                n = 0 # индекс изображени\n",
        "                for att in attachments:\n",
        "                    neural_network = True\n",
        "                    # Проверяем есть ли во вложениях фото\n",
        "                    if att['type'] == 'photo':\n",
        "                        path = './imgs/' + str(owner_id) + '_' + str(post_id) + '(' + str(n) + ').jpg'\n",
        "                        url = att['photo']['sizes'][2]['url']\n",
        "                        n += 1\n",
        "                        downlaod_img(url, path) # загрузка изображений\n",
        "            \n",
        "            # Нейросеть \n",
        "            category = [] \n",
        "            folder = './imgs/'\n",
        "            if neural_network:          \n",
        "                category_dict = {0:'Готовые блюда', 1:'Консервы', 2:'Крупы, макаронные изделия, чай и приправы', \n",
        "                      3:'Молочная продукция', 4:'Мясное, рыба', 5:'Овощи, фрукты, орехи', 6:'Реклама', \n",
        "                      7:'Соки, напитки', 8:'Хлебобулочные и кондитерские изделия'} \n",
        "                try:              \n",
        "                    predict_index = distribution_by_category()\n",
        "                    if not 6 in predict_index:\n",
        "                        for index in predict_index:\n",
        "                            category.append(category_dict[index])\n",
        "                except Exception as e: \n",
        "                    print(e) \n",
        "\n",
        "            # отчищаем папку с загрузками\n",
        "            folder = './imgs/' \n",
        "            for the_file in os.listdir(folder): \n",
        "                file_path = os.path.join(folder, the_file) \n",
        "                try: \n",
        "                    if os.path.isfile(file_path): \n",
        "                        os.unlink(file_path) \n",
        "                    elif os.path.isdir(file_path): \n",
        "                        shutil.rmtree(file_path) \n",
        "                except Exception as e: \n",
        "                    print(e) \n",
        "\n",
        "                  \n",
        "\n",
        "            #  Отправка поста боту\n",
        "            send = {'link': 'https://vk.com/' + domain + '?w=wall' + str(owner_id) + '_' + str(post_id),\n",
        "                    'category': category, 'city': city, 'text': text}\n",
        "            bot_send = json.dumps(send)\n",
        "            print('Сообщение боту:\\n',bot_send, '\\n')\n",
        "            requests.get('https://nanib0ots.pythonanywhere.com/bot/post', send, cookies={'parser_key': '12345678'})\n",
        "            print('=========================================')\n",
        "\n",
        "\n",
        "def main():\n",
        "    while (True):\n",
        "        try:\n",
        "            response = requests.get('https://nanib0ots.pythonanywhere.com/bot/get_data', cookies={'parser_key': '12345678'})\n",
        "            if response.status_code != 200:\n",
        "                time.sleep(5)\n",
        "                main()\n",
        "            data = json.loads(response.content)\n",
        "            print('=========================================')\n",
        "            print('Ответ от базы данных\\n', data,'\\n')\n",
        "        except requests.exceptions.ConnectionError:\n",
        "            print('ConnectionError')\n",
        "            time.sleep(40)\n",
        "            main()\n",
        "        vk_pars_func(data)\n",
        "        time.sleep(40)\n",
        "\n",
        "\n",
        "if __name__ == '__main__':\n",
        "    main()\n"
      ],
      "execution_count": 64,
      "outputs": [
        {
          "output_type": "stream",
          "text": [
            "=========================================\n",
            "Ответ от базы данных\n",
            " [{'title': 'Фудшеринг I Отдам даром еду I Челябинск', 'city': ['Челябинск'], 'group_id': 'fudshering74'}, {'title': 'Хелпфуд. Фудшеринг. Санкт-Петербург', 'city': ['СПБ'], 'group_id': 'club_helpfoodspb'}, {'title': 'Фудшеринг Отдам даром еду', 'city': ['Москва', 'СПБ'], 'group_id': 'sharingfood'}, {'title': 'Фудшеринг Отдам даром в Иркутске', 'city': ['Иркутск'], 'group_id': 'sharingfood_irk'}, {'title': 'Наша группа', 'city': ['Иркутск'], 'group_id': 'NaniB0ots_food'}] \n",
            "\n",
            "Пост Вк: link: https://vk.com/fudshering74?w=wall-101826852_6839 \n",
            "\n",
            "Found 1 validated image filenames.\n",
            "Нейросеть Категория: Мясное, рыба\n",
            "Сообщение боту:\n",
            " {\"link\": \"https://vk.com/fudshering74?w=wall-101826852_6839\", \"category\": [\"\\u041c\\u044f\\u0441\\u043d\\u043e\\u0435, \\u0440\\u044b\\u0431\\u0430\"], \"city\": [\"\\u0427\\u0435\\u043b\\u044f\\u0431\\u0438\\u043d\\u0441\\u043a\"], \"text\": \"[id427437472|\\u039c\\u0430\\u0440\\u0438\\u044f]\"} \n",
            "\n",
            "=========================================\n",
            "Пост Вк: link: https://vk.com/club_helpfoodspb?w=wall-161997638_10348 \n",
            "\n",
            "Found 1 validated image filenames.\n",
            "Нейросеть Категория: Хлебобулочные и кондитерские изделия\n",
            "Сообщение боту:\n",
            " {\"link\": \"https://vk.com/club_helpfoodspb?w=wall-161997638_10348\", \"category\": [\"\\u0425\\u043b\\u0435\\u0431\\u043e\\u0431\\u0443\\u043b\\u043e\\u0447\\u043d\\u044b\\u0435 \\u0438 \\u043a\\u043e\\u043d\\u0434\\u0438\\u0442\\u0435\\u0440\\u0441\\u043a\\u0438\\u0435 \\u0438\\u0437\\u0434\\u0435\\u043b\\u0438\\u044f\"], \"city\": [\"\\u0421\\u041f\\u0411\"], \"text\": \"\\u041a\\u0443\\u0434\\u0440\\u043e\\u0432\\u043e, \\u0434\\u0430\\u0440\\u043e\\u043c, \\u0441\\u0432\\u0435\\u0436\\u0430\\u044f \\u043f\\u0440\\u043e\\u0441\\u0440\\u043e\\u0447\\u043a\\u0430, \\u043d\\u0443\\u0436\\u0434\\u0430\\u044e\\u0449\\u0438\\u043c\\u0441\\u044f \\u043a\\u043e\\u0442\\u043e\\u0440\\u044b\\u0435 \\u043d\\u0435 \\u043f\\u0440\\u044f\\u0447\\u0443\\u0442\\u0441\\u044f. \\u0417\\u0430\\u0431\\u0440\\u0430\\u0442\\u044c \\u0432 9 \\u0443\\u0442\\u0440\\u0430, \\u0438\\u043b\\u0438 \\u043f\\u043e\\u0441\\u043b\\u0435 21. \\u041f\\u0438\\u0441\\u0410\\u0442\\u044c \\u0432 \\u043b\\u0438\\u0447\\u043a\\u0443. \\u0421 \\u043f\\u0435\\u0447\\u0435\\u043d\\u044e\\u0448\\u043a\\u0430\\u043c\\u0438 \\u043e\\u0441\\u0442\\u043e\\u0440\\u043e\\u0436\\u043d\\u043e.\"} \n",
            "\n",
            "=========================================\n",
            "Пост Вк: link: https://vk.com/sharingfood?w=wall-109125816_520658 \n",
            "\n",
            "Found 1 validated image filenames.\n",
            "Нейросеть Категория: Крупы, макаронные изделия, чай и приправы\n",
            "Сообщение боту:\n",
            " {\"link\": \"https://vk.com/sharingfood?w=wall-109125816_520658\", \"category\": [\"\\u041a\\u0440\\u0443\\u043f\\u044b, \\u043c\\u0430\\u043a\\u0430\\u0440\\u043e\\u043d\\u043d\\u044b\\u0435 \\u0438\\u0437\\u0434\\u0435\\u043b\\u0438\\u044f, \\u0447\\u0430\\u0439 \\u0438 \\u043f\\u0440\\u0438\\u043f\\u0440\\u0430\\u0432\\u044b\"], \"city\": [\"\\u041c\\u043e\\u0441\\u043a\\u0432\\u0430\", \"\\u0421\\u041f\\u0411\"], \"text\": \"\\u041c\\u0430\\u043a\\u0430\\u0440\\u043e\\u043d\\u044b \\u0434\\u043b\\u044f \\u043b\\u0430\\u0437\\u0430\\u043d\\u044c\\u0438 \\u0438 \\u043e\\u0431\\u044b\\u0447\\u043d\\u044b\\u0435 \\u0441\\u043e \\u0448\\u043f\\u0438\\u043d\\u0430\\u0442\\u043e\\u043c, \\u043e\\u0434\\u043d\\u0430 \\u043f\\u0430\\u0447\\u043a\\u0438 \\u0434\\u0430\\u0436\\u0435 \\u043d\\u0435 \\u043e\\u0442\\u043a\\u0440\\u044b\\u0442\\u0430, \\u043c\\u043e\\u0433\\u0443 \\u0435\\u0449\\u0451 \\u043c\\u0430\\u043a\\u0430\\u0440\\u043e\\u043d \\u0434\\u0430\\u0442\\u044c. \\u043c\\u0435\\u0442\\u0440\\u043e \\u041b\\u0435\\u0441\\u043d\\u0430\\u044f, \\u0443\\u043b. \\u0411\\u0435\\u0441\\u0442\\u0443\\u0436\\u0435\\u0432\\u0441\\u043a\\u0430\\u044f, \\u043f\\u0440\\u043e\\u0441\\u044c\\u0431\\u0430 \\u043f\\u0438\\u0441\\u0430\\u0442\\u044c \\u0432 \\u043b\\u0438\\u0447\\u043a\\u0443 \\u043d\\u0430\\u0441\\u0442\\u043e\\u044f\\u0449\\u0438\\u043c \\u043b\\u044e\\u0434\\u044f\\u043c \\u0441 \\u043e\\u0442\\u043a\\u0440\\u044b\\u0442\\u044b\\u043c \\u043f\\u0440\\u043e\\u0444\\u0438\\u043b\\u0435\\u043c, \\u0445\\u043e\\u0447\\u0435\\u0442\\u0441\\u044f \\u043e\\u0442\\u0434\\u0430\\u0442\\u044c \\u0434\\u0435\\u0439\\u0441\\u0442\\u0432\\u0438\\u0442\\u0435\\u043b\\u044c\\u043d\\u043e \\u043d\\u0443\\u0436\\u0434\\u0430\\u044e\\u0449\\u0438\\u043c\\u0441\\u044f.\"} \n",
            "\n",
            "=========================================\n",
            "Пост Вк: link: https://vk.com/sharingfood_irk?w=wall-129690210_5107 \n",
            "\n",
            "Found 1 validated image filenames.\n",
            "Нейросеть Категория: Мясное, рыба\n",
            "Сообщение боту:\n",
            " {\"link\": \"https://vk.com/sharingfood_irk?w=wall-129690210_5107\", \"category\": [\"\\u041c\\u044f\\u0441\\u043d\\u043e\\u0435, \\u0440\\u044b\\u0431\\u0430\"], \"city\": [\"\\u0418\\u0440\\u043a\\u0443\\u0442\\u0441\\u043a\"], \"text\": \"\\u041e\\u0442\\u0434\\u0430\\u043c \\u043c\\u044f\\u0441\\u043e, \\u0441\\u0440\\u043e\\u0447\\u043d\\u043e. \\u0412 \\u0441\\u0432\\u044f\\u0437\\u0438 \\u0441 \\u043e\\u0442\\u044a\\u0435\\u0437\\u0434\\u043e\\u043c\"} \n",
            "\n",
            "=========================================\n",
            "Пост Вк: link: https://vk.com/NaniB0ots_food?w=wall-196457123_13 \n",
            "\n",
            "Found 1 validated image filenames.\n",
            "Нейросеть Категория: Крупы, макаронные изделия, чай и приправы\n",
            "Сообщение боту:\n",
            " {\"link\": \"https://vk.com/NaniB0ots_food?w=wall-196457123_13\", \"category\": [\"\\u041a\\u0440\\u0443\\u043f\\u044b, \\u043c\\u0430\\u043a\\u0430\\u0440\\u043e\\u043d\\u043d\\u044b\\u0435 \\u0438\\u0437\\u0434\\u0435\\u043b\\u0438\\u044f, \\u0447\\u0430\\u0439 \\u0438 \\u043f\\u0440\\u0438\\u043f\\u0440\\u0430\\u0432\\u044b\"], \"city\": [\"\\u0418\\u0440\\u043a\\u0443\\u0442\\u0441\\u043a\"], \"text\": \"\\u0424\\u0438\\u043d\\u0430\\u043b\\u044c\\u043d\\u044b\\u0439 \\u0442\\u0435\\u0441\\u0442\\n\\u0411\\u0415\\u0421\\u041f\\u041b\\u0410\\u0422\\u041d\\u0410\\u042f \\u0415\\u0414\\u0410!!!!\"} \n",
            "\n",
            "=========================================\n",
            "=========================================\n",
            "Ответ от базы данных\n",
            " [{'title': 'Фудшеринг I Отдам даром еду I Челябинск', 'city': ['Челябинск'], 'group_id': 'fudshering74'}, {'title': 'Хелпфуд. Фудшеринг. Санкт-Петербург', 'city': ['СПБ'], 'group_id': 'club_helpfoodspb'}, {'title': 'Фудшеринг Отдам даром еду', 'city': ['Москва', 'СПБ'], 'group_id': 'sharingfood'}, {'title': 'Фудшеринг Отдам даром в Иркутске', 'city': ['Иркутск'], 'group_id': 'sharingfood_irk'}, {'title': 'Наша группа', 'city': ['Иркутск'], 'group_id': 'NaniB0ots_food'}] \n",
            "\n",
            "=========================================\n",
            "Ответ от базы данных\n",
            " [{'title': 'Фудшеринг I Отдам даром еду I Челябинск', 'city': ['Челябинск'], 'group_id': 'fudshering74'}, {'title': 'Хелпфуд. Фудшеринг. Санкт-Петербург', 'city': ['СПБ'], 'group_id': 'club_helpfoodspb'}, {'title': 'Фудшеринг Отдам даром еду', 'city': ['Москва', 'СПБ'], 'group_id': 'sharingfood'}, {'title': 'Фудшеринг Отдам даром в Иркутске', 'city': ['Иркутск'], 'group_id': 'sharingfood_irk'}, {'title': 'Наша группа', 'city': ['Иркутск'], 'group_id': 'NaniB0ots_food'}] \n",
            "\n",
            "=========================================\n",
            "Ответ от базы данных\n",
            " [{'title': 'Фудшеринг I Отдам даром еду I Челябинск', 'city': ['Челябинск'], 'group_id': 'fudshering74'}, {'title': 'Хелпфуд. Фудшеринг. Санкт-Петербург', 'city': ['СПБ'], 'group_id': 'club_helpfoodspb'}, {'title': 'Фудшеринг Отдам даром еду', 'city': ['Москва', 'СПБ'], 'group_id': 'sharingfood'}, {'title': 'Фудшеринг Отдам даром в Иркутске', 'city': ['Иркутск'], 'group_id': 'sharingfood_irk'}, {'title': 'Наша группа', 'city': ['Иркутск'], 'group_id': 'NaniB0ots_food'}] \n",
            "\n"
          ],
          "name": "stdout"
        },
        {
          "output_type": "error",
          "ename": "KeyboardInterrupt",
          "evalue": "ignored",
          "traceback": [
            "\u001b[0;31m---------------------------------------------------------------------------\u001b[0m",
            "\u001b[0;31mKeyboardInterrupt\u001b[0m                         Traceback (most recent call last)",
            "\u001b[0;32m<ipython-input-64-63912b672a01>\u001b[0m in \u001b[0;36m<module>\u001b[0;34m()\u001b[0m\n\u001b[1;32m    138\u001b[0m \u001b[0;34m\u001b[0m\u001b[0m\n\u001b[1;32m    139\u001b[0m \u001b[0;32mif\u001b[0m \u001b[0m__name__\u001b[0m \u001b[0;34m==\u001b[0m \u001b[0;34m'__main__'\u001b[0m\u001b[0;34m:\u001b[0m\u001b[0;34m\u001b[0m\u001b[0;34m\u001b[0m\u001b[0m\n\u001b[0;32m--> 140\u001b[0;31m     \u001b[0mmain\u001b[0m\u001b[0;34m(\u001b[0m\u001b[0;34m)\u001b[0m\u001b[0;34m\u001b[0m\u001b[0;34m\u001b[0m\u001b[0m\n\u001b[0m",
            "\u001b[0;32m<ipython-input-64-63912b672a01>\u001b[0m in \u001b[0;36mmain\u001b[0;34m()\u001b[0m\n\u001b[1;32m    134\u001b[0m             \u001b[0mmain\u001b[0m\u001b[0;34m(\u001b[0m\u001b[0;34m)\u001b[0m\u001b[0;34m\u001b[0m\u001b[0;34m\u001b[0m\u001b[0m\n\u001b[1;32m    135\u001b[0m         \u001b[0mvk_pars_func\u001b[0m\u001b[0;34m(\u001b[0m\u001b[0mdata\u001b[0m\u001b[0;34m)\u001b[0m\u001b[0;34m\u001b[0m\u001b[0;34m\u001b[0m\u001b[0m\n\u001b[0;32m--> 136\u001b[0;31m         \u001b[0mtime\u001b[0m\u001b[0;34m.\u001b[0m\u001b[0msleep\u001b[0m\u001b[0;34m(\u001b[0m\u001b[0;36m40\u001b[0m\u001b[0;34m)\u001b[0m\u001b[0;34m\u001b[0m\u001b[0;34m\u001b[0m\u001b[0m\n\u001b[0m\u001b[1;32m    137\u001b[0m \u001b[0;34m\u001b[0m\u001b[0m\n\u001b[1;32m    138\u001b[0m \u001b[0;34m\u001b[0m\u001b[0m\n",
            "\u001b[0;31mKeyboardInterrupt\u001b[0m: "
          ]
        }
      ]
    },
    {
      "cell_type": "code",
      "metadata": {
        "id": "r58PMfUYF5CR",
        "colab_type": "code",
        "colab": {}
      },
      "source": [
        "#!rm ./imgs/*.jpg\n",
        "!rm ./groups.json"
      ],
      "execution_count": null,
      "outputs": []
    }
  ]
}